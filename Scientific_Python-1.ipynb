{
 "cells": [
  {
   "cell_type": "markdown",
   "metadata": {},
   "source": [
    "<img style=\"float: right;\" src=\"http://www2.le.ac.uk/liscb1.jpg\">\n",
    "\n",
    "# Scientific Python for Programmers"
   ]
  },
  {
   "cell_type": "markdown",
   "metadata": {},
   "source": [
    "Python's real power lies in it's libraries.\n",
    "\n",
    "Implementing new data analysis algorithms or strategies can take hours, or months. However, remember that you're probably not the first person to try to do most things, and if anyone else has tried it in python, they've probably made a library so you can do it too. \n",
    "\n",
    "The most common libraries for data analysis in python are *numpy*, *pandas* and *matplotlib*.\n",
    "\n",
    "We have some data from an inflamation study stored in .csv files in the data directory. Each row represents one patient, and each column represents their inflamation score as the study progressed. Each file is from a different group of patients.\n",
    "\n",
    "Lets try to analyse the data a few different ways:"
   ]
  },
  {
   "cell_type": "markdown",
   "metadata": {},
   "source": [
    "## 1. Analysis using just python and *matplotlib*"
   ]
  },
  {
   "cell_type": "markdown",
   "metadata": {},
   "source": [
    "We start by getting a list of the files, using python's *glob* library, which contains the function, `glob`. \n",
    "\n",
    "The `glob` function finds all the pathnames matching a specified pattern according to the rules used by the Unix shell. More details can be found at:- https://docs.python.org/3/library/glob.html"
   ]
  },
  {
   "cell_type": "code",
   "execution_count": null,
   "metadata": {},
   "outputs": [],
   "source": [
    "import glob\n",
    "\n",
    "# Use * as wild card character to get list of all csv files. \n",
    "glob.glob('data/*.csv')"
   ]
  },
  {
   "cell_type": "markdown",
   "metadata": {},
   "source": [
    "**_Please note that the list of files is not guraranteed to be in order._**\n",
    "\n",
    "Now that we have a list of files, lets look at the first file:"
   ]
  },
  {
   "cell_type": "code",
   "execution_count": null,
   "metadata": {},
   "outputs": [],
   "source": [
    "data_filenames = glob.glob('data/*.csv')\n",
    "first_filename = data_filenames[0]\n",
    "print(first_filename)"
   ]
  },
  {
   "cell_type": "markdown",
   "metadata": {},
   "source": [
    "We can look at the data using an IPython command to list the file contents, just like we would on the command line:  \n",
    "*Note that you can click on the area to the left of the output to shrink it down.*"
   ]
  },
  {
   "cell_type": "code",
   "execution_count": null,
   "metadata": {
    "scrolled": true,
    "tags": []
   },
   "outputs": [],
   "source": [
    "%cat data/inflammation-08.csv"
   ]
  },
  {
   "cell_type": "markdown",
   "metadata": {},
   "source": [
    "Now that we see what the data look like, we can formulate a stragegy for analysing it:\n",
    "1. Open the file\n",
    "2. Read each line\n",
    "3. Split the values at the commas\n",
    "4. Convert each value into an integer\n",
    "5. Add that patient's data to your study"
   ]
  },
  {
   "cell_type": "markdown",
   "metadata": {},
   "source": [
    "Files are funny things.  If you open a file and forget to close it, bad things happen.  If your program crashes half-way through, bad things happen.  If you try to open it more than once, bad things happen.  Python has a trick that takes care of all of this for you:  `with open(Your_file_name) as Your_file_handle:`"
   ]
  },
  {
   "cell_type": "markdown",
   "metadata": {},
   "source": [
    "Let us understand above 5 steps in a more simple manner with a file having just one line `first_line_inflammation-08.csv` "
   ]
  },
  {
   "cell_type": "code",
   "execution_count": null,
   "metadata": {},
   "outputs": [],
   "source": [
    "%cat data/first_line_inflammation-08.txt"
   ]
  },
  {
   "cell_type": "markdown",
   "metadata": {},
   "source": [
    "<b>Step 1 & Step 2:\n",
    "\n",
    "Let us open the file and read one line."
   ]
  },
  {
   "cell_type": "code",
   "execution_count": null,
   "metadata": {},
   "outputs": [],
   "source": [
    "my_file_name = 'data/first_line_inflammation-08.txt'\n",
    "\n",
    "# Open the file\n",
    "with open(my_file_name) as file:\n",
    "    \n",
    "    # Read each line\n",
    "    for line in file:\n",
    "        print (line)\n",
    "\n",
    "#Also let us see the data type of line that we just read.\n",
    "print('Data type of line is :-', type(line))"
   ]
  },
  {
   "cell_type": "markdown",
   "metadata": {},
   "source": [
    "<b> Step 3:\n",
    "\n",
    "Let us now split the values at commas so that we can manipulate each value as we wish."
   ]
  },
  {
   "cell_type": "code",
   "execution_count": null,
   "metadata": {},
   "outputs": [],
   "source": [
    "print('LINE:')\n",
    "print(line)\n",
    "print('Data type of line is  :-', type(line))\n",
    "\n",
    "print()\n",
    "\n",
    "split_line = line.split(',')\n",
    "print('SPLIT LINE:')\n",
    "print(split_line)\n",
    "print('Data type of split_line is  :-', type(split_line))\n"
   ]
  },
  {
   "cell_type": "markdown",
   "metadata": {},
   "source": [
    "<b>Step 4:\n",
    "\n",
    "Let us see the type of inidividual values in split str and convert it into a suitable data type so that we can perform mathematical operations."
   ]
  },
  {
   "cell_type": "code",
   "execution_count": null,
   "metadata": {},
   "outputs": [],
   "source": [
    "print('Data type of value in split_line is :-', type(split_line[0]))"
   ]
  },
  {
   "cell_type": "markdown",
   "metadata": {},
   "source": [
    "As we can see that the each value in `split_line` is `string (or str)` type. We will now convert them to integer types so that we can perform mathematical operarations."
   ]
  },
  {
   "cell_type": "code",
   "execution_count": null,
   "metadata": {},
   "outputs": [],
   "source": [
    "# Initialise converted split line to an empty list.\n",
    "converted_split_line = []\n",
    "\n",
    "for value in split_line:\n",
    "    \n",
    "    #Convert to int values.\n",
    "    converted_split_line.append(int(value))\n",
    "\n",
    "print(converted_split_line)\n",
    "print('Data type of value in converted_split_line is :-', type(converted_split_line[0]))"
   ]
  },
  {
   "cell_type": "markdown",
   "metadata": {},
   "source": [
    "Let us now combine all above steps to read all the lines in one csv file and look at the data."
   ]
  },
  {
   "cell_type": "code",
   "execution_count": null,
   "metadata": {},
   "outputs": [],
   "source": [
    "# This is the main list that will store all the  values in the current file.\n",
    "print(first_filename)\n",
    "study_participants = []\n",
    "\n",
    "# Open the file\n",
    "with open(first_filename) as file:\n",
    "    \n",
    "    # Read each line\n",
    "    for line in file:\n",
    "        \n",
    "        # Split the values at the commas\n",
    "        split_line = line.split(',')\n",
    "        \n",
    "        # This list is for stroing each row/line and appending it it study_participants.\n",
    "        inflamation_scores = []        \n",
    "        for inflamation_score in split_line:\n",
    "            inflamation_scores.append(int(inflamation_score))\n",
    "        \n",
    "        study_participants.append(inflamation_scores)\n",
    "\n",
    "# Look at the data\n",
    "for participant in study_participants:\n",
    "    print(participant)"
   ]
  },
  {
   "cell_type": "markdown",
   "metadata": {},
   "source": [
    "We can also ask basic questions, like what's the minimum, average, and maximum inflamation value for each participant."
   ]
  },
  {
   "cell_type": "code",
   "execution_count": null,
   "metadata": {},
   "outputs": [],
   "source": [
    "for participant in study_participants:\n",
    "    minimum_inflamation = min(participant)\n",
    "    average_inflamation = sum(participant) / len(participant)\n",
    "    maximum_inflamation = max(participant)\n",
    "    print('min:', minimum_inflamation, 'avg:', average_inflamation, 'max:', maximum_inflamation)"
   ]
  },
  {
   "cell_type": "markdown",
   "metadata": {},
   "source": [
    "<b>Everyone's got a minimum score of 0!\n",
    "\n",
    "Now we can plot each participant using *matplotlib* to see if we can see what's going on."
   ]
  },
  {
   "cell_type": "markdown",
   "metadata": {},
   "source": [
    "### 1.1 Matplotlib\n",
    "\n",
    "Matplotlib is a comprehensive library for creating static, animated, and interactive visualizations in Python. You can find more details at:- https://matplotlib.org/. \n",
    "\n",
    "It is common practice to import `matplotlib` as `plt` to save some typing. We will also use the similar convention in this notebook."
   ]
  },
  {
   "cell_type": "code",
   "execution_count": null,
   "metadata": {},
   "outputs": [],
   "source": [
    "import matplotlib.pyplot as plt\n",
    "%matplotlib inline"
   ]
  },
  {
   "cell_type": "markdown",
   "metadata": {},
   "source": [
    "Let us look at some plotting functions in matplotlib. \n",
    "\n",
    "As the first example, let us plot the curve of $y = x^2$. "
   ]
  },
  {
   "cell_type": "markdown",
   "metadata": {},
   "source": [
    "<b>Step 1:\n",
    "\n",
    "Let us define the $x$ range we want to plot. We will use a pyhton function `range` for this purpose. \n",
    "\n",
    "The syntax of `range` is `range(start, stop, step)`. It generates an iterable object starting from `start` and incrementing by `step` untill it reaches `stop`. Note that `stop` is not included. "
   ]
  },
  {
   "cell_type": "code",
   "execution_count": null,
   "metadata": {},
   "outputs": [],
   "source": [
    "x_values = list(range(-10, 11, 1))  # List will convert the iterable into a list of values.\n",
    "print(x_values)"
   ]
  },
  {
   "cell_type": "markdown",
   "metadata": {},
   "source": [
    "<b>Step 2:\n",
    "\n",
    "Let us calculate the value of y for each x."
   ]
  },
  {
   "cell_type": "code",
   "execution_count": null,
   "metadata": {},
   "outputs": [],
   "source": [
    "y_values = [] \n",
    "\n",
    "for x in x_values:\n",
    "    y = x ** 2\n",
    "    y_values.append(y)\n",
    "\n",
    "print(y_values)"
   ]
  },
  {
   "cell_type": "markdown",
   "metadata": {},
   "source": [
    "<b>Step 3:\n",
    "\n",
    "Let us plot the curve now using matpltolib."
   ]
  },
  {
   "cell_type": "code",
   "execution_count": null,
   "metadata": {},
   "outputs": [],
   "source": [
    "plt.plot(x_values, y_values)"
   ]
  },
  {
   "cell_type": "markdown",
   "metadata": {},
   "source": [
    "<b>A. Add label to the graph"
   ]
  },
  {
   "cell_type": "code",
   "execution_count": null,
   "metadata": {},
   "outputs": [],
   "source": [
    "plt.xlabel('x')\n",
    "plt.ylabel('y')\n",
    "plt.plot(x_values, y_values)"
   ]
  },
  {
   "cell_type": "markdown",
   "metadata": {},
   "source": [
    "<b>B. Add title to the graph"
   ]
  },
  {
   "cell_type": "code",
   "execution_count": null,
   "metadata": {},
   "outputs": [],
   "source": [
    "plt.xlabel('x')\n",
    "plt.ylabel('y')\n",
    "plt.plot(x_values, y_values)\n",
    "plt.title('Graph of some simple mathematical functions')"
   ]
  },
  {
   "cell_type": "markdown",
   "metadata": {},
   "source": [
    "<b>C. Add markers to the graph and change line type"
   ]
  },
  {
   "cell_type": "code",
   "execution_count": null,
   "metadata": {},
   "outputs": [],
   "source": [
    "plt.xlabel('x')\n",
    "plt.ylabel('y')\n",
    "plt.plot(x_values, y_values, '--')\n",
    "plt.plot(x_values, y_values, 'ro')\n",
    "plt.title('Graph of some simple mathematical functions')"
   ]
  },
  {
   "cell_type": "markdown",
   "metadata": {},
   "source": [
    "<b>D. Adding more than one curve on the same graph"
   ]
  },
  {
   "cell_type": "markdown",
   "metadata": {},
   "source": [
    "Let us add the graph of $y=10x$ on the same graph."
   ]
  },
  {
   "cell_type": "code",
   "execution_count": null,
   "metadata": {},
   "outputs": [],
   "source": [
    "#Since x values are same, we use them to calculate y values.\n",
    "linear_y_values = []\n",
    "\n",
    "for x in x_values:\n",
    "    linear_y_values.append(10*x)\n",
    "\n",
    "print(linear_y_values)"
   ]
  },
  {
   "cell_type": "code",
   "execution_count": null,
   "metadata": {},
   "outputs": [],
   "source": [
    "plt.xlabel('x')\n",
    "plt.ylabel('y')\n",
    "plt.plot(x_values, y_values, 'ro-')\n",
    "plt.plot(x_values, linear_y_values, 'g*--')\n",
    "plt.title('Graph of some simple mathematical functions')"
   ]
  },
  {
   "cell_type": "markdown",
   "metadata": {},
   "source": [
    "Above plot looks _OK_ but we should always add legend to graph to identify which curve represents which thing."
   ]
  },
  {
   "cell_type": "markdown",
   "metadata": {},
   "source": [
    "<b>E. Adding legend to the graph"
   ]
  },
  {
   "cell_type": "code",
   "execution_count": null,
   "metadata": {},
   "outputs": [],
   "source": [
    "plt.xlabel('x')\n",
    "plt.ylabel('y')\n",
    "plt.plot(x_values, y_values, 'ro-')\n",
    "plt.plot(x_values, linear_y_values, 'g*--')\n",
    "plt.title('Graph of some simple mathematical functions')\n",
    "plt.legend(['$y=x^2$', '$y=10x$'])"
   ]
  },
  {
   "cell_type": "markdown",
   "metadata": {},
   "source": [
    "<b>F. Changing axes limits of the graph\n",
    "\n",
    "Let us change the limits of x and y axis to have only positive values."
   ]
  },
  {
   "cell_type": "code",
   "execution_count": null,
   "metadata": {},
   "outputs": [],
   "source": [
    "plt.xlabel('x')\n",
    "plt.ylabel('y')\n",
    "plt.plot(x_values, y_values, 'ro-')\n",
    "plt.plot(x_values, linear_y_values, 'g*--')\n",
    "plt.title('Graph of some simple mathematical functions')\n",
    "plt.legend(['$y=x^2$', '$y=10x$'])\n",
    "plt.xlim(0, 10)\n",
    "plt.ylim(-5, 105)"
   ]
  },
  {
   "cell_type": "markdown",
   "metadata": {},
   "source": [
    "<b>G. Adding subplots\n",
    "\n",
    "Subplots mean groups of axes that can exist in a single matplotlib figure. \n",
    "\n",
    "Consider the following example:"
   ]
  },
  {
   "cell_type": "code",
   "execution_count": null,
   "metadata": {},
   "outputs": [],
   "source": [
    "#Adding subplots.\n",
    "fig,axs = plt.subplots(1,2)\n",
    "\n",
    "axs[0].plot(x_values, y_values,'cx--')\n",
    "axs[0].set_xlabel('$X1$')\n",
    "axs[0].set_ylabel('$Y1$')\n",
    "axs[0].set_title('Graph of $y=x^2$')\n",
    "\n",
    "axs[1].plot(x_values, linear_y_values,'mo:')\n",
    "axs[1].set_xlabel('$X2$')\n",
    "axs[1].set_ylabel('$Y2$')\n",
    "axs[1].set_title('Graph of $y=10x$')\n",
    "\n",
    "fig.tight_layout()"
   ]
  },
  {
   "cell_type": "markdown",
   "metadata": {},
   "source": [
    "<b>H. Adding more than one figure"
   ]
  },
  {
   "cell_type": "code",
   "execution_count": null,
   "metadata": {},
   "outputs": [],
   "source": [
    "#Adding more than 1 figure\n",
    "fig1 = plt.figure(1)\n",
    "plt.plot(x_values, y_values,'b*--')\n",
    "plt.xlabel('$X$')\n",
    "plt.ylabel('$Y$')\n",
    "plt.title('Graph of $y=x^2$')\n",
    "\n",
    "fig2 = plt.figure(2)\n",
    "plt.plot(x_values, linear_y_values,'gs:')\n",
    "plt.xlabel('$X$')\n",
    "plt.ylabel('$Y$')\n",
    "plt.title('Graph of $y=10x$')\n",
    "\n",
    "#plt.figure(1)\n",
    "#plt.xlabel('x axis')"
   ]
  },
  {
   "cell_type": "markdown",
   "metadata": {},
   "source": [
    "### 1.2 Plot Participant\n",
    "\n",
    "Now let us turn back to our patient data and plot those values on a graph. Later, in the next section, we will learn some more ways to read and plot the same data."
   ]
  },
  {
   "cell_type": "code",
   "execution_count": null,
   "metadata": {},
   "outputs": [],
   "source": [
    "for participant in study_participants:\n",
    "    plt.plot(participant)"
   ]
  },
  {
   "cell_type": "markdown",
   "metadata": {},
   "source": [
    "1.  Looks very busy.\n",
    "2. Looks very triangular!  \n",
    "\n",
    "Now we could try to re-orient our list of lists to look at things along the other axis.\n",
    "\n",
    "But we're really talking about 2D data here, so why not use a library meant to work with 2D (or nD) data?"
   ]
  },
  {
   "cell_type": "markdown",
   "metadata": {},
   "source": [
    "## 2. Analysis using numpy and matplotlib"
   ]
  },
  {
   "cell_type": "markdown",
   "metadata": {},
   "source": [
    "### 2.1. Numpy Basics\n",
    "### Numpy arrays (ndarrays)\n",
    "\n",
    "Numpy arrays are one of the most commonly used collections of things we mentioned earlier. Even though numpy arrays (often written as ndarrays, for n-dimensional arrays) are not part of the\n",
    "core Python libraries, they are so useful in scientific Python that we'll include them here in the \n",
    "core lesson. Numpy arrays are collections of things, all of which must be the same type, that work\n",
    "similarly to lists (as we've described them so far). The most important are:\n",
    "\n",
    "1. You can easily perform elementwise operations (and matrix algebra) on arrays\n",
    "1. Arrays can be n-dimensional\n",
    "1. There is no equivalent to append, although arrays can be concatenated\n",
    "\n",
    "Arrays can be created from existing collections such as lists, or instantiated \"from scratch\" in a \n",
    "few useful ways.\n",
    "\n",
    "When getting started with scientific Python, you will probably want to try to use ndarrays whenever\n",
    "you're doing math or dealing with numerical data, saving the other types of collections for those cases when you have a specific reason to use them."
   ]
  },
  {
   "cell_type": "code",
   "execution_count": null,
   "metadata": {},
   "outputs": [],
   "source": [
    "# We need to import the numpy library to have access to it \n",
    "# We can also create an alias for a library, this is something you will commonly see with numpy\n",
    "import numpy as np"
   ]
  },
  {
   "cell_type": "markdown",
   "metadata": {},
   "source": [
    "<b>A. Creating simple numpy arrays"
   ]
  },
  {
   "cell_type": "code",
   "execution_count": null,
   "metadata": {},
   "outputs": [],
   "source": [
    "# Make an array from a list\n",
    "alist = [2, 3, 4]\n",
    "blist = [5, 6, 7]\n",
    "\n",
    "a = np.array(alist)\n",
    "b = np.array(blist)\n",
    "\n",
    "print(a, type(a))\n",
    "print(b, type(b))"
   ]
  },
  {
   "cell_type": "markdown",
   "metadata": {},
   "source": [
    "<b>B. Concatinating values to numpy arrays"
   ]
  },
  {
   "cell_type": "code",
   "execution_count": null,
   "metadata": {},
   "outputs": [],
   "source": [
    "# Let us create a 2D list.\n",
    "c = np.array([ \n",
    "      [1, 2, 3],\n",
    "      [4, 5, 6]\n",
    "    ])\n",
    "\n",
    "d = np.array([[1, 8, 9]])\n",
    "e = np.concatenate((c, d), axis=0)\n",
    "print('Concatenation (Axis = 0) :\\n', e)"
   ]
  },
  {
   "cell_type": "code",
   "execution_count": null,
   "metadata": {},
   "outputs": [],
   "source": [
    "#Now Let us use axis argument.\n",
    "d = np.array([[1, 8]])\n",
    "e = np.concatenate((c, d.T), axis=1)     #Pay attention to the transpose applied to 'd' numpy array.\n",
    "print('Concatenation (Axis = 1) :\\n', e)"
   ]
  },
  {
   "cell_type": "code",
   "execution_count": null,
   "metadata": {},
   "outputs": [],
   "source": [
    "# There is yet another option called axis=None. Let us try that.\n",
    "d = np.array([[1, 8, 7, 9]])\n",
    "e = np.concatenate((c, d), axis=None)\n",
    "print('Concatenation (Axis = None) :\\n', e)"
   ]
  },
  {
   "cell_type": "markdown",
   "metadata": {},
   "source": [
    "<b>C. Arithmetic on numpy arrays"
   ]
  },
  {
   "cell_type": "code",
   "execution_count": null,
   "metadata": {},
   "outputs": [],
   "source": [
    "# Do element-wise arithmetic on arrays\n",
    "print(a)\n",
    "print(b)\n",
    "print(a**2)\n",
    "print(np.sin(a))\n",
    "print(a * b)"
   ]
  },
  {
   "cell_type": "code",
   "execution_count": null,
   "metadata": {},
   "outputs": [],
   "source": [
    "# Do linear algegra on arrays\n",
    "print(a.dot(b))\n",
    "print(np.dot(a, b))"
   ]
  },
  {
   "cell_type": "markdown",
   "metadata": {},
   "source": [
    "<b>D. Boolean operations on numpy arrays"
   ]
  },
  {
   "cell_type": "code",
   "execution_count": null,
   "metadata": {},
   "outputs": [],
   "source": [
    "# Boolean operators work on arrays too, and they return boolean arrays\n",
    "print(a > 2)\n",
    "print(b == 6)\n",
    "\n",
    "c = a > 2\n",
    "print(c)\n",
    "print(type(c))\n",
    "print(c.dtype)"
   ]
  },
  {
   "cell_type": "markdown",
   "metadata": {},
   "source": [
    "<b>E. Indexing and Slicing Numpy arrays\n",
    "\n",
    "Indexing: In most simple terms, accessing a particular element or elements based on its position. In Python, indices start from zero.\n",
    "\n",
    "Slicing: When we want a portion of the array. In any dimension, we can use the syntax: `Your_array_name[start:stop:step]` (`stop` index is not included in the sliced array).\n",
    "\n",
    "Please note that:\n",
    "+ default `start` is `zero`.\n",
    "+ default `end` is `length of array in that dimension`.\n",
    "+ default `step` is `1`.\n",
    "\n",
    "For 2D arrays, the slicing can be extended as `Your_2D_array[row_slicing, column_slicing]` where each slicing can have `start:stop:end`."
   ]
  },
  {
   "cell_type": "code",
   "execution_count": null,
   "metadata": {},
   "outputs": [],
   "source": [
    "# Indexing arrays\n",
    "print(a)\n",
    "print(a[0:2])\n",
    "print()\n",
    "print()\n",
    "c = np.random.rand(3, 3)\n",
    "print(c)\n",
    "print(c[1:3, 0:2])"
   ]
  },
  {
   "cell_type": "markdown",
   "metadata": {},
   "source": [
    "Please note that you can skip specifying rows or columns explicitly and use `:` instead which means all rows or all columns. Consider the following example for clarity."
   ]
  },
  {
   "cell_type": "code",
   "execution_count": null,
   "metadata": {},
   "outputs": [],
   "source": [
    "# Let us create a 4*3 numpy array.\n",
    "array = np.array([[1,2,3], [4,5,6], [7,8,9], [10,11,12]])\n",
    "print(array)"
   ]
  },
  {
   "cell_type": "markdown",
   "metadata": {},
   "source": [
    "Let us print all columns of first two rows."
   ]
  },
  {
   "cell_type": "code",
   "execution_count": null,
   "metadata": {},
   "outputs": [],
   "source": [
    "# Both of these slices do the same thing\n",
    "print(array[0:2])\n",
    "print()\n",
    "print(array[0:2, :])"
   ]
  },
  {
   "cell_type": "markdown",
   "metadata": {},
   "source": [
    "How about printing all rows but only the second column."
   ]
  },
  {
   "cell_type": "code",
   "execution_count": null,
   "metadata": {},
   "outputs": [],
   "source": [
    "print(array[:, 1])"
   ]
  },
  {
   "cell_type": "code",
   "execution_count": null,
   "metadata": {},
   "outputs": [],
   "source": [
    "# If you want all the rows, but a subset of columns, you have to be specific:\n",
    "print(array[:, 0:2])"
   ]
  },
  {
   "cell_type": "code",
   "execution_count": null,
   "metadata": {},
   "outputs": [],
   "source": [
    "# Let us replace zeroth row of c with array a.\n",
    "c[0, :] = a   # Using ':' as index for either row or column means all rows or all columns.\n",
    "print(c)"
   ]
  },
  {
   "cell_type": "code",
   "execution_count": null,
   "metadata": {},
   "outputs": [],
   "source": [
    "# Arrays can also be indexed with other boolean arrays\n",
    "print('a =', a)\n",
    "print('b =', b)\n",
    "\n",
    "print(a > 2)\n",
    "print('a[a > 2] = ', a[a > 2])\n",
    "print('b[a > 2] = ', b[a > 2])\n",
    "\n",
    "b[a == 3] = 77\n",
    "print(b)"
   ]
  },
  {
   "cell_type": "markdown",
   "metadata": {},
   "source": [
    "<b>F. Attributes and methods of numpy arrays"
   ]
  },
  {
   "cell_type": "code",
   "execution_count": null,
   "metadata": {},
   "outputs": [],
   "source": [
    "# ndarrays have attributes...\n",
    "#c.\n",
    "print('Shape of array c is =', c.shape)\n",
    "print('Number of dimensions in c =', c.ndim)\n",
    "print('Number of bytes consumed by c =', c.nbytes)\n",
    "print('\\n')\n",
    "\n",
    "# ...and methods\n",
    "print(a.prod())     # Will lead to multiplication of all elements in array.\n",
    "print(c.flatten())  # Will reduce the number of dimensions to just one."
   ]
  },
  {
   "cell_type": "markdown",
   "metadata": {},
   "source": [
    "<b>G. Some easy ways to create and initialise arrays"
   ]
  },
  {
   "cell_type": "code",
   "execution_count": null,
   "metadata": {},
   "outputs": [],
   "source": [
    "# There are handy ways to make arrays full of ones and zeros\n",
    "print(np.zeros((5, 5)), '\\n')\n",
    "print(np.ones(5), '\\n')\n",
    "print(np.identity(5), '\\n')"
   ]
  },
  {
   "cell_type": "code",
   "execution_count": null,
   "metadata": {},
   "outputs": [],
   "source": [
    "# You can also easily make arrays of number sequences\n",
    "print(np.arange(0, 10, 2))"
   ]
  },
  {
   "cell_type": "markdown",
   "metadata": {},
   "source": [
    "### 2.2 Using numpy with matplotlib to analyse our data"
   ]
  },
  {
   "cell_type": "code",
   "execution_count": null,
   "metadata": {},
   "outputs": [],
   "source": [
    "study_participants_array = np.array(study_participants)\n",
    "study_participants_array"
   ]
  },
  {
   "cell_type": "markdown",
   "metadata": {},
   "source": [
    "Numpy arrays have all sorts of nice features.  For example, we can easily find out what the shape of the array is:"
   ]
  },
  {
   "cell_type": "code",
   "execution_count": null,
   "metadata": {},
   "outputs": [],
   "source": [
    "study_participants_array.shape"
   ]
  },
  {
   "cell_type": "markdown",
   "metadata": {},
   "source": [
    "So we have 60 participants with 40 observations each.  It turns out that reading these files into Numpy is common enough that we don't need those nested *for* loops to do it - someone's already done it for us:"
   ]
  },
  {
   "cell_type": "code",
   "execution_count": null,
   "metadata": {},
   "outputs": [],
   "source": [
    "print(first_filename)\n",
    "data = np.loadtxt(fname=first_filename, delimiter=',')\n",
    "data.shape"
   ]
  },
  {
   "cell_type": "markdown",
   "metadata": {},
   "source": [
    "#### Plotting  \n",
    "Because numpy is designed to work with arrays of values, we can easily remake the plot above, without the loop.  \n",
    "\n",
    "As you can see, the default orientation plots one line per observation - meaning we see 40 lines (one for each observation,) each with 60 data points on the x-axis for the 60 participants."
   ]
  },
  {
   "cell_type": "code",
   "execution_count": null,
   "metadata": {},
   "outputs": [],
   "source": [
    "plt.plot(data);"
   ]
  },
  {
   "cell_type": "markdown",
   "metadata": {},
   "source": [
    "What a mess.  What we wanted was a plot across the observations, not participants.  Fortunatelly, we can just swap the axes of the array using a 'Transpose'.  In the same way nD arrays carry around their shape in the `.shape` attribute, they carry around their transpose in the `.T` attribute."
   ]
  },
  {
   "cell_type": "code",
   "execution_count": null,
   "metadata": {},
   "outputs": [],
   "source": [
    "plt.plot(data.T);"
   ]
  },
  {
   "cell_type": "markdown",
   "metadata": {},
   "source": [
    "<b>EXERCISE 1 - min, mean, max\n",
    "\n",
    "1. Extract the data for the second patient\n",
    "2. Calculate the minimum, mean, and maximum inflamation scores for that patient\n",
    "3. Using the `axis=` parameter, calculate the minimum, mean, and maximum inflamation scores for each observation  \n",
    "    *tip: since there are 60 patients with 40 observations each, you can check that you're working observation-wise and not patient wise* \n",
    "4. Plot the minimum, average, and maximum inflamation scores per observation\n",
    "\n",
    "<b>BONUS\n",
    "\n",
    "Ask google how to add a figure legend to your plot.\n",
    "1. Search google for \"add figure legend to matplotlib\"\n",
    "2. Choose the first link to `stackoverflow.com`\n",
    "3. Look at the top answer, which generally should have a green check mark "
   ]
  },
  {
   "cell_type": "code",
   "execution_count": null,
   "metadata": {},
   "outputs": [],
   "source": [
    "# Exercise 1: Your solution goes here.\n"
   ]
  },
  {
   "cell_type": "markdown",
   "metadata": {},
   "source": [
    "<b>EXERCISE 2 - multiple files\n",
    "\n",
    "Re-create the plot above for the first three `.csv` files.  In order to get a new figure, use: `plt.figure()`\n",
    "\n",
    "<b>BONUS\n",
    "\n",
    "Ask google how to add a figure title to each plot, so that you can tell which file it comes from."
   ]
  },
  {
   "cell_type": "code",
   "execution_count": null,
   "metadata": {},
   "outputs": [],
   "source": [
    "# Exercise 2: Your solution goes here.\n"
   ]
  },
  {
   "cell_type": "markdown",
   "metadata": {},
   "source": [
    "## 3. Analysis using pandas and matplotlib"
   ]
  },
  {
   "cell_type": "markdown",
   "metadata": {},
   "source": [
    "Numpy is designed and built for doing array manipulations.  It's good at doing the kinds of table-like operations we've been doing so far, but it's really meant for doing math.  The Pandas library, on the other hand, is built from the ground up for doing this type of work.  \n",
    "\n",
    "The primary two components of pandas are the `Series` and `DataFrame`. A `Series` is essentially a column or row, and a `DataFrame` is a 2-dimensional table made up of a collection of `Series` (if you're familiar with the R programming language, these are the same as data frames in that language).\n",
    "\n",
    "Like Numpy and Matplotlib, Pandas is a large, powerful library, and we're only going to look at a small portion in this workshop."
   ]
  },
  {
   "cell_type": "code",
   "execution_count": null,
   "metadata": {},
   "outputs": [],
   "source": [
    "import pandas as pd"
   ]
  },
  {
   "cell_type": "code",
   "execution_count": null,
   "metadata": {},
   "outputs": [],
   "source": [
    "# Creating DataFrames from scratch. Eeach (key, value) pair in data corresponds to a column in the resulting DataFrame.\n",
    "data = {'Semester': [3, 1, 3, 3, 1],\n",
    "        'Name': ['Sarah', 'John', 'George', 'Julia', 'Peter'],\n",
    "        'Grade': [7.0, 6.8, 7.2, 7.8, 7.1]}\n",
    "\n",
    "students = pd.DataFrame(data)\n",
    "students"
   ]
  },
  {
   "cell_type": "markdown",
   "metadata": {},
   "source": [
    "Pandas provides a location indexer (`.loc[]`) that behaves in a similar manner to Numpy."
   ]
  },
  {
   "cell_type": "code",
   "execution_count": null,
   "metadata": {},
   "outputs": [],
   "source": [
    "students.loc[1]"
   ]
  },
  {
   "cell_type": "markdown",
   "metadata": {},
   "source": [
    "Remember that Pandas behaves as a spreadsheet.  While using `.loc[]` looks like it uses 'positional' slicing, what you're actually doing is slicing based on the index label.  \n",
    "\n",
    "If we create a dataframe with labeled rows and columns, the behaviour becomes more clear."
   ]
  },
  {
   "cell_type": "code",
   "execution_count": null,
   "metadata": {},
   "outputs": [],
   "source": [
    "# You can also provide your own index\n",
    "df = pd.DataFrame(data, index=['student2', 'student2', 'student3', 'student4', 'student5'])  # having the string student2 twice is not a typo. You will see below.\n",
    "df"
   ]
  },
  {
   "cell_type": "code",
   "execution_count": null,
   "metadata": {},
   "outputs": [],
   "source": [
    "# You can now locate an entry with...\n",
    "# print(df.loc[0])  # This doesn't work with this DataFrame\n",
    "df.loc['student2']"
   ]
  },
  {
   "cell_type": "markdown",
   "metadata": {},
   "source": [
    "You can also provide a column name."
   ]
  },
  {
   "cell_type": "code",
   "execution_count": null,
   "metadata": {},
   "outputs": [],
   "source": [
    "df.loc['student3', 'Name']"
   ]
  },
  {
   "cell_type": "markdown",
   "metadata": {},
   "source": [
    "But we can also provide a list of indices, and Pandas will give us those back in the order we ask for them."
   ]
  },
  {
   "cell_type": "code",
   "execution_count": null,
   "metadata": {},
   "outputs": [],
   "source": [
    "df.loc[['student4', 'student3'], ['Grade', 'Name']]"
   ]
  },
  {
   "cell_type": "markdown",
   "metadata": {},
   "source": [
    "Or we can use the `.loc[]` indexing to do the same kind of slicing we do with Numpy."
   ]
  },
  {
   "cell_type": "code",
   "execution_count": null,
   "metadata": {},
   "outputs": [],
   "source": [
    "df.loc['student3':'student5', 'Semester':'Name']"
   ]
  },
  {
   "cell_type": "markdown",
   "metadata": {},
   "source": [
    "Pandas provides various methods and attributes that can give you details about the DataFrame. For example `.info()` provides the essential details about the dataset, such as the number of rows and columns, the number of non-null values, what type of data is in each column, and how much memory the DataFrame is using, `.shape` outputs a tuple of (rows, columns) and `.columns` and `.index` print the column and row names respectively of the dataset."
   ]
  },
  {
   "cell_type": "code",
   "execution_count": null,
   "metadata": {},
   "outputs": [],
   "source": [
    "# Getting info about your data\n",
    "print(students.info())"
   ]
  },
  {
   "cell_type": "code",
   "execution_count": null,
   "metadata": {},
   "outputs": [],
   "source": [
    "# More info about a DataFrame\n",
    "print(students.shape)\n",
    "print(students.columns)\n",
    "print(students.index)"
   ]
  },
  {
   "cell_type": "markdown",
   "metadata": {},
   "source": [
    "We can also append to the end of our DataFrame with the `._append()` method. We can either append a single row by passing a dictionary or multiple rows by passing another DataFrame. \n",
    "\n",
    "Note: as of pandas v2.0 the `.append()` was removed."
   ]
  },
  {
   "cell_type": "code",
   "execution_count": null,
   "metadata": {},
   "outputs": [],
   "source": [
    "new_student = {'Semester': 1, 'Name': 'Mark', 'Grade': 6.9}\n",
    "modified_students = students._append(new_student, ignore_index=True)  # not in-place, need to reassign\n",
    "modified_students"
   ]
  },
  {
   "cell_type": "markdown",
   "metadata": {},
   "source": [
    "Another way to create a DataFrame is by passing a list of lists, along with the index and columns arguments if needed, e.g."
   ]
  },
  {
   "cell_type": "code",
   "execution_count": null,
   "metadata": {},
   "outputs": [],
   "source": [
    "pd.DataFrame([[1, 2, 3, 4], [5, 6, 7, 8], [9, 10, 11, 12]], index=['one', 'two', 'three'], columns=['a', 'b', 'c', 'd'])"
   ]
  },
  {
   "cell_type": "markdown",
   "metadata": {},
   "source": [
    "We can loop over the rows of a DataFrame with the `.iterrows()` method as (index, Series) pairs."
   ]
  },
  {
   "cell_type": "code",
   "execution_count": null,
   "metadata": {},
   "outputs": [],
   "source": [
    "for index, row in students.iterrows():\n",
    "    print(index, row['Semester'], row['Name'], row['Grade'])"
   ]
  },
  {
   "cell_type": "markdown",
   "metadata": {},
   "source": [
    "In the previous section we used a built-in numpy method (`.loadtxt()`) to parse the comma separated values file. Pandas provides a similar functionality, giving back a DataFrame instead of a numpy array, via the `.read_csv()` method. "
   ]
  },
  {
   "cell_type": "code",
   "execution_count": null,
   "metadata": {
    "scrolled": true
   },
   "outputs": [],
   "source": [
    "pd.read_csv('data/inflammation-01.csv')"
   ]
  },
  {
   "cell_type": "markdown",
   "metadata": {},
   "source": [
    "Oops!  By default, Pandas assumes that the first row is the column names.  As our data has no header, we need to tell Pandas that the header is `None`."
   ]
  },
  {
   "cell_type": "code",
   "execution_count": null,
   "metadata": {},
   "outputs": [],
   "source": [
    "pd.read_csv('data/inflammation-01.csv', header=None)"
   ]
  },
  {
   "cell_type": "markdown",
   "metadata": {},
   "source": [
    "While Numpy arrays are designed to do math, Pandas dataframes are designed to hold data, so in general you should try to treat them as immutable."
   ]
  },
  {
   "cell_type": "code",
   "execution_count": null,
   "metadata": {},
   "outputs": [],
   "source": [
    "inflammation_01 = pd.read_csv('data/inflammation-01.csv', header=None)"
   ]
  },
  {
   "cell_type": "markdown",
   "metadata": {},
   "source": [
    "So what do we get for this increased complexity?"
   ]
  },
  {
   "cell_type": "markdown",
   "metadata": {},
   "source": [
    "<b>EXERCISE 3 - General information on our csv file with Pandas\n",
    "\n",
    "1. Load the second csv file into a Pandas DataFrame called inflammation_02\n",
    "2. Create a variable called inflammation_02_description using the `.describe()` method of the DataFrame\n",
    "3. Examine the contents of the inflammation_02_description variable  \n",
    "4. Using the `.loc[]` indexer, extract the min, mean, max values and convert them to lists\n",
    "5. Plot the min, mean, max values using `plt.plot()`"
   ]
  },
  {
   "cell_type": "code",
   "execution_count": null,
   "metadata": {},
   "outputs": [],
   "source": [
    "# Exercise 3: Your solution goes here.\n"
   ]
  },
  {
   "cell_type": "markdown",
   "metadata": {},
   "source": [
    "### 3.1 Reading excel spreadsheets with Pandas\n",
    "\n",
    "Because Pandas dataframes behave like Excel spreadsheets, the people who created pandas decided that you should be able to work with Excel spreadsheets.  \n",
    "\n",
    "We can load all the sheets from the `inflamation.xlsx` Excel file by telling the `read_excel` method not to get a specific one (note that by default it gets the first one).  This will give us a Dictionary of DataFrames:"
   ]
  },
  {
   "cell_type": "code",
   "execution_count": null,
   "metadata": {},
   "outputs": [],
   "source": [
    "inflammation_workbook = pd.read_excel('data/inflammation.xlsx', sheet_name=None, header=None, engine=\"openpyxl\")\n",
    "inflammation_workbook.keys()"
   ]
  },
  {
   "cell_type": "code",
   "execution_count": null,
   "metadata": {},
   "outputs": [],
   "source": [
    "inflammation_workbook['inflammation-01']"
   ]
  },
  {
   "cell_type": "markdown",
   "metadata": {},
   "source": [
    "One final bit of Pandas. It plots, too."
   ]
  },
  {
   "cell_type": "code",
   "execution_count": null,
   "metadata": {},
   "outputs": [],
   "source": [
    "inflammation_01_description = inflammation_01.describe()\n",
    "inflammation_01_description.loc['min'].plot()\n",
    "inflammation_01_description.loc['mean'].plot()\n",
    "inflammation_01_description.loc['max'].plot()\n",
    "\n",
    "\n",
    "plt.xlabel('Observation')\n",
    "plt.ylabel('Value')\n",
    "plt.legend(['Minimum', 'Mean', 'Maximum'])\n",
    "plt.title('Data for file data/inflammation-01.csv')"
   ]
  },
  {
   "cell_type": "markdown",
   "metadata": {},
   "source": [
    "<b>EXERCISE 4 - Plot all the things!\n",
    "\n",
    "Plot min, mean, max values for all the sheets in your excel file.\n",
    "\n",
    "<b>BONUS\n",
    "\n",
    "Plot them in order.  \n",
    "*tip: you can order the keys in a dictionary using `sorted(dictionary.keys())`*"
   ]
  },
  {
   "cell_type": "code",
   "execution_count": null,
   "metadata": {},
   "outputs": [],
   "source": [
    "# Exercise 4: Your solution goes here.\n"
   ]
  },
  {
   "cell_type": "markdown",
   "metadata": {},
   "source": [
    "Hmm,...  That last one looks funny."
   ]
  },
  {
   "cell_type": "markdown",
   "metadata": {},
   "source": [
    "#### One final plot...  \n",
    "As our data is 2-dimensional, one final way we can plot it is to show it as an image.  Because Pandas and Matplotlib work together well, it's easy.  We just use the `imshow` method of the `pyplot` library, and then add a colorbar to get a range."
   ]
  },
  {
   "cell_type": "code",
   "execution_count": null,
   "metadata": {},
   "outputs": [],
   "source": [
    "plt.imshow(inflammation_workbook['inflammation-01'], cmap='jet')\n",
    "plt.colorbar()"
   ]
  },
  {
   "cell_type": "markdown",
   "metadata": {},
   "source": [
    "MathWorks, the company who makes Matlab, used to use the Jet colormap (and so did Matplotlib before version 2.0.)  This colormap was so popular (and pretty,) it became the default in most packages.  Unfortunatelly, Jet is a terrible colormap. Recently, there has been a lot of research about the effects of different colormaps on our perception of data that has shown how truly awful the Jet colormap is.  In [one recent study](http://www.eecs.harvard.edu/~kgajos/papers/2011/borkin11-infoviz.pdf), physicians who were switched from Jet to a perceptually 'appropriate' map showed a 47% increase in the ability to detect potential sites of coronary artery disease.\n",
    "\n",
    "Because Jet was so bad, Mathworks changed their default map to one called *parula*, which is much better, but still not ideal.  Matplotlib has gone for a map called *viridis* which is perceptually uniform, looks the same if you have red-green colour blindness, and prints nicely in black and white.\n",
    "\n",
    "As an example, we'll plot the same data as above using both a greyscale map and viridis."
   ]
  },
  {
   "cell_type": "code",
   "execution_count": null,
   "metadata": {},
   "outputs": [],
   "source": [
    "plt.figure(figsize=(6, 6))  # Notice that you can change the figure size by poviding an (x,y) tuple\n",
    "plt.imshow(inflammation_workbook['inflammation-01'], cmap='Greys_r')\n",
    "plt.colorbar()\n",
    "\n",
    "plt.figure(figsize=(6, 6))\n",
    "plt.imshow(inflammation_workbook['inflammation-01'], cmap='viridis')\n",
    "plt.colorbar()"
   ]
  },
  {
   "cell_type": "markdown",
   "metadata": {},
   "source": [
    "<b>EXERCISE 5 - Try some other colormaps\n",
    "\n",
    "Repeat the plot above using *at least* three different colormaps.\n",
    "\n",
    "<b>tip: Google 'matplotlib colormap'\n"
   ]
  },
  {
   "cell_type": "code",
   "execution_count": null,
   "metadata": {},
   "outputs": [],
   "source": [
    "# Exercise 5: Your solution goes here.\n"
   ]
  },
  {
   "cell_type": "markdown",
   "metadata": {},
   "source": [
    "<b>EXERCISE 6 - I promise Jet is bad\n",
    "\n",
    "Plot all the spreadsheets in the viridis, Greys_r, and jet colormaps.\n",
    "\n",
    "Do you see anything interesting?"
   ]
  },
  {
   "cell_type": "code",
   "execution_count": null,
   "metadata": {},
   "outputs": [],
   "source": [
    "# Exercise 6: Your solution goes here.\n"
   ]
  },
  {
   "cell_type": "markdown",
   "metadata": {},
   "source": [
    "## Congratulations, You made it. ##"
   ]
  }
 ],
 "metadata": {
  "anaconda-cloud": {},
  "kernelspec": {
   "display_name": "Python 3",
   "language": "python",
   "name": "python3"
  },
  "language_info": {
   "codemirror_mode": {
    "name": "ipython",
    "version": 3
   },
   "file_extension": ".py",
   "mimetype": "text/x-python",
   "name": "python",
   "nbconvert_exporter": "python",
   "pygments_lexer": "ipython3",
   "version": "3.11.5"
  }
 },
 "nbformat": 4,
 "nbformat_minor": 4
}
