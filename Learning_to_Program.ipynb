{
 "cells": [
  {
   "cell_type": "markdown",
   "metadata": {},
   "source": [
    "<img style=\"float: right;\" src=\"http://www2.le.ac.uk/liscb1.jpg\">\n",
    "\n",
    "# Learning to Program via Python"
   ]
  },
  {
   "cell_type": "markdown",
   "metadata": {},
   "source": [
    "Lightly modified by T.J. Ragan, Teri Forey and Makis Kappas  \n",
    "Originally by: Software Carpentry (Cindee Madison and Thomas Kluyver, with thanks to Justin Kitzes and Matt Davis)"
   ]
  },
  {
   "cell_type": "markdown",
   "metadata": {},
   "source": [
    "Python is an easy to write, very easy to read general programming language.  Like any language, however, it's only as beautiful as the people who use it make it. Please remember that your code is not only meant to do something, it's meant to be read. In fact, most programmers spend more than half their time (in fact, most of their time) reading the code they've written - so be good to yourself."
   ]
  },
  {
   "cell_type": "markdown",
   "metadata": {},
   "source": [
    "## 1. Individual things\n",
    "\n",
    "The most basic component of any programming language are \"things\" aka data types, or\n",
    "(in special cases) objects.\n",
    "\n",
    "The most common basic \"things\" in Python are integers, floats, strings, booleans, and\n",
    "some special objects of various types. We'll meet many of these as we go through the lesson.\n",
    "\n",
    "* **Integer:** Whole number\n",
    "* **Float:** Number with a decimal point\n",
    "* **String:** Text contained within quotation marks\n",
    "* **Boolean:** True or False\n"
   ]
  },
  {
   "cell_type": "markdown",
   "metadata": {},
   "source": [
    "__TIP:__ To run the code in a cell quickly, press Ctrl-Enter."
   ]
  },
  {
   "cell_type": "markdown",
   "metadata": {},
   "source": [
    "__TIP:__ To quickly create a new cell below an existing one, type Ctrl-m or Esc and then b.\n",
    "Other shortcuts for making, deleting, and moving cells are in the menubar at the top of the\n",
    "screen."
   ]
  },
  {
   "cell_type": "code",
   "execution_count": null,
   "metadata": {},
   "outputs": [],
   "source": [
    "# This line is a comment and will not be executed\n",
    "2 + 3"
   ]
  },
  {
   "cell_type": "code",
   "execution_count": null,
   "metadata": {},
   "outputs": [],
   "source": [
    "# Use print to show multiple things in the same cell\n",
    "# Note that you can use single or double quotes for strings\n",
    "print(2)\n",
    "print('hello')"
   ]
  },
  {
   "cell_type": "code",
   "execution_count": null,
   "metadata": {},
   "outputs": [],
   "source": [
    "# We can use type() to show what type of thing it is\n",
    "print(2, type(2))\n",
    "print(2.0, type(2.0))\n",
    "print('2', type('2'))\n",
    "print(True, type(True))"
   ]
  },
  {
   "cell_type": "markdown",
   "metadata": {},
   "source": [
    "### Variables\n",
    "Instead of creating a thing each time we want to use it, we can create a variable that points to that thing. A variable can then be reused multiple times while the thing was created only once. You can think of a variable as being a placeholder or marker for that thing. Variables cannot start with numbers and are usually lowercase. "
   ]
  },
  {
   "cell_type": "code",
   "execution_count": null,
   "metadata": {},
   "outputs": [],
   "source": [
    "# Variables point to things\n",
    "a = 2\n",
    "b = 'hello'\n",
    "c = True  # This is case sensitive\n",
    "print(a, b, c)"
   ]
  },
  {
   "cell_type": "code",
   "execution_count": null,
   "metadata": {},
   "outputs": [],
   "source": [
    "# We can then reuse that variable to print the type of thing we have\n",
    "print(type(a))\n",
    "print(type(b))\n",
    "print(type(c))"
   ]
  },
  {
   "cell_type": "code",
   "execution_count": null,
   "metadata": {},
   "outputs": [],
   "source": [
    "# Be careful with using quotation marks\n",
    "hello = 'good to see you'\n",
    "print('hello')"
   ]
  },
  {
   "cell_type": "code",
   "execution_count": null,
   "metadata": {},
   "outputs": [],
   "source": [
    "# What happens when a new variable points to a previous variable?\n",
    "a = 1\n",
    "b = a\n",
    "a = 2\n",
    "## What is b?\n",
    "print(b)"
   ]
  },
  {
   "cell_type": "markdown",
   "metadata": {},
   "source": [
    "## 2. Commands that operate on things\n",
    "\n",
    "Just storing data in variables isn't much use to us. Right away, we'd like to start performing\n",
    "operations and manipulations on data and variables.\n",
    "\n",
    "There are three very common means of performing an operation on a thing."
   ]
  },
  {
   "cell_type": "markdown",
   "metadata": {},
   "source": [
    "### 2.1 Use an operator\n",
    "\n",
    "All of the basic math operators work like you think they should for numbers. They can also\n",
    "do some useful operations on other things, like strings. There are also assignment operators which are used to assign values to variables, comparison operators that\n",
    "compare quantities and give back a `bool` variable as a result and logical operators that combine multiple boolean values.\n",
    "\n",
    "#### Arithmetic Operators\n",
    "| Operator | Name | Example |\n",
    "|----------|------|---------|\n",
    "|+|Addition|x+y|\n",
    "|-|Subtraction|x-y|\n",
    "|*|Multiplication|x*y|\n",
    "|/|Division|x/y|\n",
    "|%|Modulo|x%y|\n",
    "|**|Exponentiation|x**y|\n",
    "|//|Floor division|x//y|\n",
    "\n",
    "#### Assignment Operators\n",
    "| Operator | Example | Same as |\n",
    "|----------|---------|---------|\n",
    "|=|x=4||\n",
    "|+=|x+=4|x=x+4|\n",
    "|-+|x-=4|x=x-4|\n",
    "|*=|x*=4|x=x*4|\n",
    "|/=|x/=4|x=x/4|\n",
    "|%=|x%=4|x=x%4|\n",
    "|**=|x**=4|x=x**4|\n",
    "|//=|x//=4|x=x//4|\n",
    "\n",
    "#### Comparison Operators\n",
    "| Operator | Name | Example |\n",
    "|----------|------|---------|\n",
    "|==|Equal|x==y|\n",
    "|!=|Not equal|x!=y|\n",
    "|>|Greater than|x>y|\n",
    "|<|Less than|x<y|\n",
    "|>=|Greater than or equal to|x>=y|\n",
    "|<=|Less than or equal to|x<=y|\n",
    "\n",
    "#### Logical Operators\n",
    "| Operator | Description | Example |\n",
    "|----------|-------------|---------|\n",
    "|and|Returns True if both statements are True|x > 3 and  x < 5|\n",
    "|or|Returns True if one of the statements is True|x < 2 or x > 6|\n",
    "|not|Reverse the result, returns False if the result is True|not(x < 2 or x > 6)|"
   ]
  },
  {
   "cell_type": "code",
   "execution_count": null,
   "metadata": {},
   "outputs": [],
   "source": [
    "# Standard math operators work as expected on numbers\n",
    "a = 2\n",
    "b = 3\n",
    "print(a + b)\n",
    "print(a * b)\n",
    "print(a ** b)  # a to the power of b (a^b does something completely different!)\n",
    "print(a / b)   # Careful with dividing integers if you use Python 2"
   ]
  },
  {
   "cell_type": "code",
   "execution_count": null,
   "metadata": {},
   "outputs": [],
   "source": [
    "# There are also operators for strings\n",
    "print('hello' + 'world')\n",
    "print('hello' * 3)\n",
    "#print('hello' / 3)  # You can't do this!"
   ]
  },
  {
   "cell_type": "code",
   "execution_count": null,
   "metadata": {},
   "outputs": [],
   "source": [
    "# Comparison operators compare two things and boolean (logical) operators\n",
    "# combine multiple boolean values\n",
    "a = (1 > 3)\n",
    "b = (3 == 3)\n",
    "print(a)\n",
    "print(b)\n",
    "print(a or b)\n",
    "print(a and b)"
   ]
  },
  {
   "cell_type": "markdown",
   "metadata": {},
   "source": [
    "### 2.2 Use a function\n",
    "\n",
    "These are pieces of code that will run when you tell them to and normally return something. To run a function you need the function name and then round brackets `functionName()`. Some functions take in input arguments, these go inside the round brackets `functionName(argument)`. The function name is really just a pre-existing variable that points to that chunk of code - hence why function names are normally lowercase."
   ]
  },
  {
   "cell_type": "code",
   "execution_count": null,
   "metadata": {},
   "outputs": [],
   "source": [
    "# There are thousands of functions that operate on things\n",
    "print(type(3))\n",
    "print(len('hello'))\n",
    "print(round(3.3))"
   ]
  },
  {
   "cell_type": "markdown",
   "metadata": {},
   "source": [
    "__TIP:__ To find out what a function does, you can type it's name and then a question mark to\n",
    "get a pop up help window."
   ]
  },
  {
   "cell_type": "code",
   "execution_count": null,
   "metadata": {},
   "outputs": [],
   "source": [
    "round?\n",
    "round(3.14159, 2)"
   ]
  },
  {
   "cell_type": "markdown",
   "metadata": {},
   "source": [
    "#### An Aside: The strange case of round( )"
   ]
  },
  {
   "cell_type": "markdown",
   "metadata": {},
   "source": [
    "In mathematics, rounding 3.5 gives 4, and rounding 4.5 gives 5:  rounding numbers with 5 in the last decimal place rounds up.  In computer programming, however:"
   ]
  },
  {
   "cell_type": "code",
   "execution_count": null,
   "metadata": {},
   "outputs": [],
   "source": [
    "print(round(3.5))\n",
    "print(round(4.5))\n",
    "print(round(5.5))"
   ]
  },
  {
   "cell_type": "markdown",
   "metadata": {},
   "source": [
    "This is because, according to IEEE 754, you round to the nearest, and ties go to even numbers!  "
   ]
  },
  {
   "cell_type": "markdown",
   "metadata": {},
   "source": [
    "__TIP:__ Many useful functions are not in the Python built in library, but are in external\n",
    "scientific packages. These need to be imported into your Python notebook (or program) before\n",
    "they can be used. Probably the most important of these are numpy and matplotlib. If you want to use a function inside one of these packages you need to tell python where to look for the function name, you do this with a dot between the package and function `package.function()`"
   ]
  },
  {
   "cell_type": "code",
   "execution_count": null,
   "metadata": {},
   "outputs": [],
   "source": [
    "# Many useful functions are in external packages\n",
    "# Let's meet numpy\n",
    "import numpy"
   ]
  },
  {
   "cell_type": "code",
   "execution_count": null,
   "metadata": {},
   "outputs": [],
   "source": [
    "# Some examples of numpy functions and \"things\"\n",
    "print(numpy.sqrt(4))\n",
    "print(numpy.pi)  # Not a function, just a variable\n",
    "print(numpy.sin(numpy.pi))"
   ]
  },
  {
   "cell_type": "markdown",
   "metadata": {},
   "source": [
    "### 2.3 Use a method\n",
    "\n",
    "Before we get any farther into the Python language, we have to say a word about \"objects\". We\n",
    "will not be teaching object oriented programming in this workshop, but you will encounter objects\n",
    "throughout Python (in fact, even seemingly simple things like ints and strings are actually\n",
    "objects in Python).\n",
    "\n",
    "In the simplest terms, you can think of an object as a small bundled \"thing\" that contains within\n",
    "itself both data and functions that operate on that data. For example, strings in Python are\n",
    "objects that contain a bunch of characters in order, and also various functions that operate on those\n",
    "characters. When bundled in an object, these functions are called \"methods\".\n",
    "\n",
    "Instead of the \"normal\" `function(arguments)` syntax, methods are called using the\n",
    "syntax `variable.method(arguments)`."
   ]
  },
  {
   "cell_type": "code",
   "execution_count": null,
   "metadata": {},
   "outputs": [],
   "source": [
    "# A string is actually an object\n",
    "a = 'hello, world'\n",
    "print(type(a))"
   ]
  },
  {
   "cell_type": "code",
   "execution_count": null,
   "metadata": {},
   "outputs": [],
   "source": [
    "# Objects have bundled methods\n",
    "#a.\n",
    "print(a.capitalize())\n",
    "print(a.replace('l', 'X'))"
   ]
  },
  {
   "cell_type": "code",
   "execution_count": null,
   "metadata": {},
   "outputs": [],
   "source": [
    "# If we change what type of object the variable points to, it will have different methods\n",
    "a = 1.5\n",
    "print(a.is_integer())"
   ]
  },
  {
   "cell_type": "markdown",
   "metadata": {},
   "source": [
    "### Exercise 1 - Conversion\n",
    "\n",
    "Throughout this lesson, we will successively build towards a program that will calculate the\n",
    "variance of some measurements,  in this case `Height in Metres`.  The first thing we want to do is convert from an antiquated measurement system.\n",
    "\n",
    "To change inches into metres we use the following equation (conversion factor is rounded)\n",
    "\n",
    "$$metre = \\frac{inches}{39}$$\n",
    "\n",
    "1. Create a variable for the conversion factor, called `inches_in_metre`.\n",
    "1. Create a variable (`inches`) for your height in inches, as inaccurately as you want.\n",
    "2. Divide `inches` by `inches_in_metre`, and store the result in a new variable, `my_height_in_metres`.\n",
    "1. Print the result\n",
    "\n",
    "__Bonus__\n",
    "\n",
    "Convert from feet and inches to metres."
   ]
  },
  {
   "cell_type": "markdown",
   "metadata": {},
   "source": [
    "__TIP:__ A 'gotcha' for all python 2 users, or people reading code written in python 2, (it was changed in python 3) is the result of integer division. To make it work the obvious way, either:\n",
    "\n",
    "1. `inches_in_metre = 39.`  (add the decimal to cast to a float, or use 39.4 to be more accurate)\n",
    "2. `from __future__ import division` -  Put this at the **top** of the code and it will work  "
   ]
  },
  {
   "cell_type": "code",
   "execution_count": null,
   "metadata": {},
   "outputs": [],
   "source": []
  },
  {
   "cell_type": "markdown",
   "metadata": {},
   "source": [
    "## 3. Collections of things\n",
    "\n",
    "While it is interesting to explore your own height, in science we work with larger  slightly more complex datasets. In this example, we are interested in the characteristics and distribution of heights. Python provides us with a number of objects to handle collections of things (aka data structures).\n",
    "\n",
    "Probably 99% of your work in scientific Python will use one of five types of collections:\n",
    "`lists`, `tuples`, `dictionaries`, `numpy arrays` and `pandas dataframes`. We'll look quickly at the first three of these and, and come back to `arrays` and `dataframes` in the advanced course."
   ]
  },
  {
   "cell_type": "markdown",
   "metadata": {},
   "source": [
    "### 3.1 Lists\n",
    "\n",
    "Lists are probably the handiest and most flexible type of container. \n",
    "\n",
    "Lists are declared with square brackets [ ]. \n",
    "\n",
    "Individual elements of a list can be selected using the syntax `a[ind]`."
   ]
  },
  {
   "cell_type": "code",
   "execution_count": null,
   "metadata": {},
   "outputs": [],
   "source": [
    "# Lists are created with square bracket syntax\n",
    "a = ['blueberry', 'strawberry', 'pineapple']\n",
    "print(a, type(a))"
   ]
  },
  {
   "cell_type": "code",
   "execution_count": null,
   "metadata": {},
   "outputs": [],
   "source": [
    "# Lists (and all collections) are also indexed with square brackets\n",
    "# NOTE: The first index is zero, not one\n",
    "print(a[0])\n",
    "print(a[1])"
   ]
  },
  {
   "cell_type": "code",
   "execution_count": null,
   "metadata": {},
   "outputs": [],
   "source": [
    "## You can also count from the end of the list\n",
    "print('last item is:', a[-1])\n",
    "print('second to last item is:', a[-2])"
   ]
  },
  {
   "cell_type": "code",
   "execution_count": null,
   "metadata": {},
   "outputs": [],
   "source": [
    "# you can access multiple items from a list by slicing, using a colon between indexes\n",
    "# NOTE: The end value is not inclusive\n",
    "print('a =', a)\n",
    "print('get first two:', a[0:2])"
   ]
  },
  {
   "cell_type": "code",
   "execution_count": null,
   "metadata": {},
   "outputs": [],
   "source": [
    "# You can leave off the start or end if desired\n",
    "print(a[:2])\n",
    "print(a[2:])\n",
    "print(a[:])\n",
    "print(a[:-1])"
   ]
  },
  {
   "cell_type": "code",
   "execution_count": null,
   "metadata": {},
   "outputs": [],
   "source": [
    "# Lists are objects, like everything else, and have methods such as append\n",
    "a = ['blueberry', 'strawberry', 'pineapple']\n",
    "\n",
    "a.append('banana')\n",
    "print(a)\n",
    "\n",
    "a.append([1,2])\n",
    "print(a)\n",
    "\n",
    "a.pop()\n",
    "print(a)"
   ]
  },
  {
   "cell_type": "markdown",
   "metadata": {},
   "source": [
    "__TIP:__ A 'gotcha' for some new Python users is that many collections, including lists,\n",
    "actually store pointers to data, not the data itself. \n",
    "\n",
    "Remember when we set `b=a` and then changed `a`?\n",
    "\n",
    "What happens when we do this in a list?"
   ]
  },
  {
   "cell_type": "code",
   "execution_count": null,
   "metadata": {},
   "outputs": [],
   "source": [
    "a = 1\n",
    "b = a\n",
    "a = 2\n",
    "## What is b?\n",
    "print('What is b?', b)\n",
    "\n",
    "a = [1, 2, 3]\n",
    "b = a\n",
    "print('original b', b)\n",
    "a[0] = 42\n",
    "print('What is b after we change a ?')"
   ]
  },
  {
   "cell_type": "code",
   "execution_count": null,
   "metadata": {},
   "outputs": [],
   "source": [
    "print('b after we change a is', b)"
   ]
  },
  {
   "cell_type": "markdown",
   "metadata": {},
   "source": [
    "__TIP:__ The difference here is that in Python integers are immutable objects while lists are mutable. To put it simple, a mutable object can be changed after it is created while an immutable can't.\n",
    "\n",
    "| Class | Mutable\\? |\n",
    "| --- | --- |\n",
    "| int | &#9744; |\n",
    "| float | &#9744; |\n",
    "| str | &#9744; |\n",
    "| bool | &#9744; |\n",
    "| list | &#9745; |\n",
    "| tuple | &#9744; |\n",
    "| dict | &#9745; |"
   ]
  },
  {
   "cell_type": "markdown",
   "metadata": {},
   "source": [
    "### EXERCISE 2 - Store a bunch of heights (in metres) in a list\n",
    "\n",
    "1. Ask five people around you for their heights (in metres).\n",
    "2. Store these in a list called `heights`.\n",
    "3. Append your own height, calculated above in the variable *my_height_in_metres*, to the list.\n",
    "4. Get the first height from the list and print it.\n",
    "\n",
    "__Bonus__\n",
    "\n",
    "1. Extract the last value in two different ways: first, by using the index for\n",
    "the last item in the list, and second, presuming that you do not know how long the list is.\n",
    "\n",
    "__HINT:__ **len()** can be used to find the length of a collection"
   ]
  },
  {
   "cell_type": "code",
   "execution_count": null,
   "metadata": {},
   "outputs": [],
   "source": []
  },
  {
   "cell_type": "code",
   "execution_count": null,
   "metadata": {},
   "outputs": [],
   "source": [
    "# Bonus\n"
   ]
  },
  {
   "cell_type": "markdown",
   "metadata": {},
   "source": [
    "### 3.2 Tuples\n",
    "\n",
    "We won't say a whole lot about tuples except to mention that they basically work just like lists, with\n",
    "two major exceptions:\n",
    "\n",
    "1. You declare tuples using ( ) instead of [ ]\n",
    "1. Once you make a tuple, you can't change what's in it (referred to as immutable)\n",
    "\n",
    "You'll see tuples come up throughout the Python language, and over time you'll develop a feel for when\n",
    "to use them. \n",
    "\n",
    "In general, they're often used instead of lists:\n",
    "\n",
    "1. To group items when the position in the collection is critical, such as coord = (x,y)\n",
    "1. When you want to make prevent accidental modification of the items, e.g. shape = (12, 23)"
   ]
  },
  {
   "cell_type": "code",
   "execution_count": null,
   "metadata": {},
   "outputs": [],
   "source": [
    "xy = (23, 45)\n",
    "print(xy[0])\n",
    "xy[0] = \"this won't work with a tuple\""
   ]
  },
  {
   "cell_type": "markdown",
   "metadata": {},
   "source": [
    "### Anatomy of a traceback error\n",
    "\n",
    "Traceback errors are `raised` when you try to do something with code it isn't meant to do.  It is also meant to be informative, but like many things, it is not always as informative as we would like.\n",
    "\n",
    "Looking at our error:\n",
    "\n",
    "    TypeError                                 Traceback (most recent call last)\n",
    "    <ipython-input-25-4d15943dd557> in <module>()\n",
    "          1 xy = (23, 45)\n",
    "          2 xy[0]\n",
    "    ----> 3 xy[0] = 'this wont work with a tuple'\n",
    "\n",
    "    TypeError: 'tuple' object does not support item assignment\n",
    "    \n",
    "1. The command you tried to run raise a **TypeError**.  This suggests you are using a variable in a way that its **Type** doesn't support\n",
    "2. the arrow ----> points to the line where the error occurred, In this case on line 3 of your code form the above line.\n",
    "3. Learning how to **read** a traceback error is an important skill to develop, and helps you know how to ask questions about what has gone wrong in your code.\n",
    "\n",
    "\n"
   ]
  },
  {
   "cell_type": "markdown",
   "metadata": {},
   "source": [
    "### 3.3 Dictionaries\n",
    "\n",
    "Dictionaries are the collection to use when you want to store and retrieve things by their names\n",
    "(or some other kind of key) instead of by their position in the collection. A good example is a set\n",
    "of model parameters, each of which has a name and a value. Dictionaries are declared using { }.  Unlike lists or tuples, dictionaries are not guaranteed to be in any particular order."
   ]
  },
  {
   "cell_type": "code",
   "execution_count": null,
   "metadata": {},
   "outputs": [],
   "source": [
    "# Make a dictionary of model parameters\n",
    "convertors = {'inches_in_feet' : 12,\n",
    "              'inches_in_metre' : 39}\n",
    "\n",
    "print(convertors)\n",
    "print(convertors['inches_in_feet'])"
   ]
  },
  {
   "cell_type": "code",
   "execution_count": null,
   "metadata": {},
   "outputs": [],
   "source": [
    "# Add a new key:value pair\n",
    "convertors['metres_in_mile'] = 1609.34\n",
    "print(convertors)"
   ]
  },
  {
   "cell_type": "code",
   "execution_count": null,
   "metadata": {},
   "outputs": [],
   "source": [
    "# Adding a pre-existing key will overwrite its value\n",
    "convertors['inches_in_metre'] = 39.4\n",
    "print(convertors)"
   ]
  },
  {
   "cell_type": "code",
   "execution_count": null,
   "metadata": {},
   "outputs": [],
   "source": [
    "# Raise a KEY error\n",
    "print(convertors['blueberry'])"
   ]
  },
  {
   "cell_type": "markdown",
   "metadata": {},
   "source": [
    "You can directly access the keys in your dictionary by using a dictionary method. You can also use `items()` to retrieve tuples with the key-value pairs."
   ]
  },
  {
   "cell_type": "code",
   "execution_count": null,
   "metadata": {},
   "outputs": [],
   "source": [
    "# print the dictionary keys\n",
    "print(convertors.keys())\n",
    "\n",
    "# print a list of key:value pairs\n",
    "print(convertors.items())"
   ]
  },
  {
   "cell_type": "markdown",
   "metadata": {},
   "source": [
    "## 4. Repeating yourself\n",
    "\n",
    "So far, everything that we've done could, in principle, be done by hand calculation. In this section\n",
    "and the next, we really start to take advantage of the power of programming languages to do things\n",
    "for us automatically.\n",
    "\n",
    "We start here with ways to repeat yourself. The two most common ways of doing this are known as *for*\n",
    "loops and *while* loops. For loops in Python are useful when you want to cycle over all of the items\n",
    "in a collection (such as all of the elements of an array), and while loops are useful when you want to\n",
    "cycle for an indefinite amount of time until some condition is met.\n",
    "\n",
    "The basic examples below will work for looping over lists, tuples, and arrays. Looping over dictionaries\n",
    "is a bit different, since there is a key and a value for each item in a dictionary. Have a look at the\n",
    "Python docs for more information."
   ]
  },
  {
   "cell_type": "code",
   "execution_count": null,
   "metadata": {},
   "outputs": [],
   "source": [
    "# A basic for loop - don't forget the white space!\n",
    "wordlist = ['hi', 'hello', 'bye']\n",
    "for word in wordlist:\n",
    "    print(word + '!')"
   ]
  },
  {
   "cell_type": "markdown",
   "metadata": {},
   "source": [
    "**Note on indentation**: Notice the indentation once we enter the for loop.  Every indented statement after the for loop declaration is part of the for loop.  This rule holds true for while loops, if statements, functions, etc. Required indentation is one of the reasons Python is such a beautiful language to read.\n",
    "\n",
    "If you do not have consistent indentation you will get an `IndentationError`.  Fortunately, most code editors will ensure your indentation is correction.\n",
    "\n",
    "__NOTE__ In Python the default is to use four (4) spaces for each indentation, most editors can be configured to follow this guide."
   ]
  },
  {
   "cell_type": "code",
   "execution_count": null,
   "metadata": {},
   "outputs": [],
   "source": [
    "# Indentation error: Fix it!\n",
    "for word in wordlist:\n",
    "    new_word = word.capitalize()\n",
    "   print(new_word + '!') # Bad indent"
   ]
  },
  {
   "cell_type": "code",
   "execution_count": null,
   "metadata": {},
   "outputs": [],
   "source": [
    "# Sum all of the values in a collection using a for loop\n",
    "numlist = [1, 4, 77, 3]\n",
    "\n",
    "total = 0\n",
    "for num in numlist:\n",
    "    total = total + num\n",
    "    \n",
    "print(\"Sum is\", total)"
   ]
  },
  {
   "cell_type": "code",
   "execution_count": null,
   "metadata": {},
   "outputs": [],
   "source": [
    "# Often we want not only to loop over the elements,\n",
    "# but also have an automatic counter\n",
    "print(wordlist)\n",
    "\n",
    "for i, word in enumerate(wordlist):\n",
    "    print(i, word, wordlist[i])"
   ]
  },
  {
   "cell_type": "code",
   "execution_count": null,
   "metadata": {},
   "outputs": [],
   "source": [
    "# While loops are useful when you don't know how many steps you will need,\n",
    "# and want to stop once a certain condition is met.\n",
    "step = 0\n",
    "prod = 1\n",
    "while prod < 100:\n",
    "    step = step + 1\n",
    "    prod = prod * 2\n",
    "    print(step, prod)\n",
    "    \n",
    "print('Reached a product of', prod, 'at step number', step)"
   ]
  },
  {
   "cell_type": "markdown",
   "metadata": {},
   "source": [
    "### EXERCISE 3 - Variance\n",
    "\n",
    "We can now calculate the variance of the heights we collected before.\n",
    "\n",
    "As a reminder, **sample variance** is the calculated from the sum of squared differences of each observation from the mean:\n",
    "\n",
    "$$variance = \\frac{\\Sigma{(x-mean)^2}}{n-1}$$\n",
    "\n",
    "where **mean** is the mean of our observations, **x** is each individual observation, and **n** is the number of observations.\n",
    "\n",
    "First, we need to calculate the mean:\n",
    "\n",
    "1. Create a variable `total` for the sum of the heights.\n",
    "2. Using a `for` loop, add each height to `total`.\n",
    "3. Find the mean by dividing this by the number of measurements, and store it as `mean`.\n",
    "\n",
    "__Note__: To get the number of things in a list, use `len(the_list)`.\n",
    "\n",
    "Now we'll use another loop to calculate the variance:\n",
    "\n",
    "1. Create a variable `sum_diffsq` for the sum of squared differences.\n",
    "2. Make a second `for` loop over `heights`.\n",
    "  - At each step, subtract the mean from the height and call it `diff`. \n",
    "  - Square this and call it `diffsq`.\n",
    "  - Add `diffsq` on to `sum_diffsq`.\n",
    "3. Divide `sum_diffsq` by `n-1` to get the variance.\n",
    "4. Display the variance.\n",
    "\n",
    "__Note__: To square a number in Python, use `**`, eg. `5**2`.\n",
    "\n",
    "__Bonus__\n",
    "\n",
    "1. Test whether `variance` is larger than 0.01, and print out a line that says \"variance more than 0.01: \"\n",
    "followed by the answer (either True or False)."
   ]
  },
  {
   "cell_type": "code",
   "execution_count": null,
   "metadata": {},
   "outputs": [],
   "source": []
  },
  {
   "cell_type": "code",
   "execution_count": null,
   "metadata": {},
   "outputs": [],
   "source": [
    "# Bonus\n"
   ]
  },
  {
   "cell_type": "markdown",
   "metadata": {},
   "source": [
    "## 5. Branching or Making choices\n",
    "\n",
    "Often we want to check if a condition is True and take one action if it is, and another action if the\n",
    "condition is False. We can achieve this in Python with an *if* statement.\n",
    "\n",
    "__TIP:__ You can use any expression that returns a boolean value (True or False) in an *if* statement.\n",
    "Common boolean operators are ==, !=, <, <=, >, >=. Notice that = is the assignment operator while the comparison operator is ==. You can also use `is` and `is not` if you want to check if two variables are identical in the sense that they are stored in the same location in memory.\n",
    "\n",
    "Here is an image to show how the `if-else` logic works in a code </br>\n",
    "![](./data/if_else_flow_diagram_highlighted.svg) "
   ]
  },
  {
   "cell_type": "markdown",
   "metadata": {},
   "source": [
    "In genral, your `if-else` code would look something like this.\n",
    "```\n",
    "Code Before if\n",
    "        \n",
    "    if(condition is True):\n",
    "        Your_Code_here\n",
    "        \n",
    "    else:\n",
    "        Your_other_Code_here\n",
    "    \n",
    "Code After if\n",
    "```"
   ]
  },
  {
   "cell_type": "markdown",
   "metadata": {},
   "source": [
    "Let us see a simeple example to see if a number is Odd or even"
   ]
  },
  {
   "cell_type": "code",
   "execution_count": 3,
   "metadata": {},
   "outputs": [
    {
     "name": "stdout",
     "output_type": "stream",
     "text": [
      "Number is even\n"
     ]
    }
   ],
   "source": [
    "number = 4\n",
    "\n",
    "if number%2 == 0:\n",
    "    print('Number is even')\n",
    "\n",
    "else:\n",
    "    print('Number is odd')"
   ]
  },
  {
   "cell_type": "markdown",
   "metadata": {},
   "source": [
    "Now, let us suppose that we want to check multiple conditions rather than only two. In this case we can use `if-elif-else` in Python rather than a simeple `if-else`. `elif` stands for `Else if` and provides you a way to insert more conditions to check in your code. "
   ]
  },
  {
   "cell_type": "code",
   "execution_count": null,
   "metadata": {},
   "outputs": [],
   "source": [
    "# A simple if statement\n",
    "x = 3\n",
    "if x > 0:\n",
    "    print('x is positive')\n",
    "elif x < 0:\n",
    "    print('x is negative')\n",
    "else:\n",
    "    print('x is zero')"
   ]
  },
  {
   "cell_type": "code",
   "execution_count": null,
   "metadata": {},
   "outputs": [],
   "source": [
    "# If statements can rely on boolean variables\n",
    "x = -1\n",
    "test = (x > 0)\n",
    "print(type(test))\n",
    "print(test)\n",
    "\n",
    "if test:\n",
    "    print('Test was true')"
   ]
  },
  {
   "cell_type": "markdown",
   "metadata": {},
   "source": [
    "### EXERCISE 4 - Conditions\n",
    "\n",
    "In the bonus to exercise 3, we printed whether the variance was greater or less than 0.01 by printing the boolean. Now, write a small if statement to do the same thing, print one message if the variance is greater than 0.01 and another message if it isn't. "
   ]
  },
  {
   "cell_type": "code",
   "execution_count": null,
   "metadata": {},
   "outputs": [],
   "source": []
  },
  {
   "cell_type": "markdown",
   "metadata": {},
   "source": [
    "## 6. Creating chunks with functions and modules\n",
    "\n",
    "One way to write a program is to simply string together commands, like the ones described above, in a long\n",
    "file, and then to run that file to generate your results. This may work, but it can be cognitively difficult\n",
    "to follow the logic of programs written in this style. Also, it does not allow you to reuse your code\n",
    "easily - for example, what if we wanted to calculate the variance over multiple lists of numbers?\n",
    "\n",
    "The most important ways to \"chunk\" code into more manageable pieces is to create functions and then\n",
    "to gather these functions into modules, and eventually packages. Below we will discuss how to create\n",
    "functions and modules. A third common type of \"chunk\" in Python is classes, but we will not be covering\n",
    "object-oriented programming in this workshop - see the advanced topics if you're interested."
   ]
  },
  {
   "cell_type": "code",
   "execution_count": null,
   "metadata": {},
   "outputs": [],
   "source": [
    "# We've been using functions all day\n",
    "import numpy as np\n",
    "x = 3.333333\n",
    "print(round(x, 2))\n",
    "print(np.sin(x))"
   ]
  },
  {
   "cell_type": "markdown",
   "metadata": {},
   "source": [
    "__TIP:__ In order to save typing, it is often suggested to make a shortcut like so: `import numpy as np`. If the module name is followed by `as`, the name following `as` is used as the local name for the module"
   ]
  },
  {
   "cell_type": "markdown",
   "metadata": {},
   "source": [
    "To create your own, you need to define the function name and input arguments\n",
    "\n",
    "The defnition of a function involves `def` keyword folowed by your function name and arguements. In general the syntax would look somehting like:\n",
    "\n",
    "```\n",
    "\n",
    "def Your_function_name(arguement_1, arguement_2,...,arguement_n):\n",
    "    Body of the function\n",
    "\n",
    "```\n",
    "\n",
    "Please not the colon `:` after the arguement list. Any indented code (tab or 4 spaces) after the def keyword is part of the function defnition. To end the function definition, just stop the indentation.\n",
    "\n",
    "For example,\n",
    "```\n",
    "\n",
    "def Your_function_name(arguement_1, arguement_2,...,arguement_n):\n",
    "    Body of the function\n",
    "\n",
    "\n",
    "Your_usual_code_here\n",
    "This unindented code is not part of the function definition.\n",
    "NOTE that we have not include blank spaces here.\n",
    "\n",
    "```"
   ]
  },
  {
   "cell_type": "code",
   "execution_count": 8,
   "metadata": {},
   "outputs": [
    {
     "name": "stdout",
     "output_type": "stream",
     "text": [
      "Sum of two numbers is :  4\n"
     ]
    }
   ],
   "source": [
    "#Let us define a function to add two numbers and print the result.\n",
    "def add_2_numbers(a, b):\n",
    "    result = a + b\n",
    "    print('Sum of two numbers is : ',result)\n",
    "\n",
    "#Let us call the function.\n",
    "add_2_numbers(1,3)"
   ]
  },
  {
   "cell_type": "markdown",
   "metadata": {},
   "source": [
    "### 6.1 Returning a value from a function\n",
    "\n",
    "In above example `add_2_numbers`, we just added two numbers and printed the result. In many cases, we want to get back the result of operations performed inside the function in our main code. In this case, we make use of `return` statement.\n",
    "\n",
    "Let us revisit above example and use a `return` statement instead."
   ]
  },
  {
   "cell_type": "code",
   "execution_count": 17,
   "metadata": {},
   "outputs": [
    {
     "name": "stdout",
     "output_type": "stream",
     "text": [
      "Sum of two numbers is :  4\n"
     ]
    }
   ],
   "source": [
    "def add_2_numbers(a, b):\n",
    "    result = a + b\n",
    "    return result   #You can also use return a+b instead of first storing in result and then returning result.\n",
    "\n",
    "#Let us call the function.\n",
    "my_sum = add_2_numbers(1,3) #This is the statement which receives the value returned by the funciton.\n",
    "print('Sum of two numbers is : ',my_sum)"
   ]
  },
  {
   "cell_type": "markdown",
   "metadata": {},
   "source": [
    "Let us create another function where we put more than one line/operation inside a function."
   ]
  },
  {
   "cell_type": "code",
   "execution_count": 9,
   "metadata": {},
   "outputs": [],
   "source": [
    "# It's very easy to define your own functions, this one will take in two arguments\n",
    "def add2andmultiply(x, y):\n",
    "    # All the work goes here\n",
    "    addedx = x + 2\n",
    "    addedy = y + 2\n",
    "    return addedx * addedy # At the end we return something"
   ]
  },
  {
   "cell_type": "code",
   "execution_count": 16,
   "metadata": {},
   "outputs": [
    {
     "name": "stdout",
     "output_type": "stream",
     "text": [
      "<class 'function'>\n",
      "15\n",
      "15\n"
     ]
    }
   ],
   "source": [
    "# Once a function is \"run\" and saved in memory, it's available just like any other function\n",
    "print(type(add2andmultiply))\n",
    "\n",
    "print(add2andmultiply(3,1))\n",
    "\n",
    "myresult = add2andmultiply(1, 3)\n",
    "print(myresult)"
   ]
  },
  {
   "cell_type": "markdown",
   "metadata": {},
   "source": [
    "### 6.2 Docstrings\n",
    "\n",
    "In most simple sense, a **DocString** is a string which defines about the function, class etc.. A user can get better understanding of your function if you provide docstrings but it is completely optional. A **Docstring** is defined by comments inside opening and closing triple quotes.\n",
    "\n",
    "For example\n",
    "```\n",
    "\"\"\"\n",
    "Write your doc string here.\n",
    "You can include multilpe lines.\n",
    "\"\"\"\n",
    "```"
   ]
  },
  {
   "cell_type": "code",
   "execution_count": 20,
   "metadata": {},
   "outputs": [],
   "source": [
    "# It's useful to include docstrings to describe what your function does\n",
    "def say_hello(time, people):\n",
    "    '''\n",
    "    Function says a greeting. Useful for engendering goodwill.\n",
    "    Input\n",
    "    time:- A string such as morning, evening etc.\n",
    "    people:- A string such as frineds, students etc.\n",
    "    '''\n",
    "    return 'Good ' + time + ', ' + people"
   ]
  },
  {
   "cell_type": "code",
   "execution_count": 21,
   "metadata": {},
   "outputs": [
    {
     "name": "stdout",
     "output_type": "stream",
     "text": [
      "Help on function say_hello in module __main__:\n",
      "\n",
      "say_hello(time, people)\n",
      "    Function says a greeting. Useful for engendering goodwill.\n",
      "    Input\n",
      "    time:- A string such as morning, evening etc.\n",
      "    people:- A string such as frineds, students etc.\n",
      "\n"
     ]
    }
   ],
   "source": [
    "help(say_hello)"
   ]
  },
  {
   "cell_type": "code",
   "execution_count": 22,
   "metadata": {},
   "outputs": [
    {
     "data": {
      "text/plain": [
       "\u001b[0;31mSignature:\u001b[0m \u001b[0msay_hello\u001b[0m\u001b[0;34m(\u001b[0m\u001b[0mtime\u001b[0m\u001b[0;34m,\u001b[0m \u001b[0mpeople\u001b[0m\u001b[0;34m)\u001b[0m\u001b[0;34m\u001b[0m\u001b[0;34m\u001b[0m\u001b[0m\n",
       "\u001b[0;31mDocstring:\u001b[0m\n",
       "Function says a greeting. Useful for engendering goodwill.\n",
       "Input\n",
       "time:- A string such as morning, evening etc.\n",
       "people:- A string such as frineds, students etc.\n",
       "\u001b[0;31mFile:\u001b[0m      /tmp/ipykernel_15876/201843868.py\n",
       "\u001b[0;31mType:\u001b[0m      function\n"
      ]
     },
     "metadata": {},
     "output_type": "display_data"
    }
   ],
   "source": [
    "say_hello?"
   ]
  },
  {
   "cell_type": "markdown",
   "metadata": {},
   "source": [
    "### 6.3 Default values of arguments inside a funciton.\n",
    "\n",
    "In many cases, it is useful to provide default values to the function. Let us first call the function `say_hello` without defining any default arguments."
   ]
  },
  {
   "cell_type": "code",
   "execution_count": 23,
   "metadata": {},
   "outputs": [
    {
     "data": {
      "text/plain": [
       "'Good afternoon, friends'"
      ]
     },
     "execution_count": 23,
     "metadata": {},
     "output_type": "execute_result"
    }
   ],
   "source": [
    "say_hello('afternoon', 'friends')"
   ]
  },
  {
   "cell_type": "code",
   "execution_count": 24,
   "metadata": {},
   "outputs": [
    {
     "ename": "TypeError",
     "evalue": "say_hello() missing 1 required positional argument: 'people'",
     "output_type": "error",
     "traceback": [
      "\u001b[0;31m---------------------------------------------------------------------------\u001b[0m",
      "\u001b[0;31mTypeError\u001b[0m                                 Traceback (most recent call last)",
      "\u001b[0;32m/tmp/ipykernel_15876/2250878816.py\u001b[0m in \u001b[0;36m<module>\u001b[0;34m\u001b[0m\n\u001b[1;32m      1\u001b[0m \u001b[0;31m# All arguments must be present, or the function will return an error\u001b[0m\u001b[0;34m\u001b[0m\u001b[0;34m\u001b[0m\u001b[0;34m\u001b[0m\u001b[0m\n\u001b[0;32m----> 2\u001b[0;31m \u001b[0msay_hello\u001b[0m\u001b[0;34m(\u001b[0m\u001b[0;34m'afternoon'\u001b[0m\u001b[0;34m)\u001b[0m\u001b[0;34m\u001b[0m\u001b[0;34m\u001b[0m\u001b[0m\n\u001b[0m",
      "\u001b[0;31mTypeError\u001b[0m: say_hello() missing 1 required positional argument: 'people'"
     ]
    }
   ],
   "source": [
    "# All arguments must be present, or the function will return an error\n",
    "say_hello('afternoon')"
   ]
  },
  {
   "cell_type": "markdown",
   "metadata": {},
   "source": [
    "To provide a default value to any argument, just provide a value to the arguement while defining the function.\n",
    "\n",
    "The general syntax of defining a default value is:\n",
    "\n",
    "```\n",
    "def Your_function_name(arg1, agrg2, arg3 = value, arg4 = value):\n",
    "    Your function definition goes here.\n",
    "```\n",
    "\n",
    "Note that all arguments with default values must be defined after the ones which are not having default values. Consider the following example."
   ]
  },
  {
   "cell_type": "code",
   "execution_count": 25,
   "metadata": {},
   "outputs": [],
   "source": [
    "# Keyword arguments can be used to make some arguments optional by giving them a default value\n",
    "# All mandatory arguments must come first, in order\n",
    "def say_hello(time, people='friends'):\n",
    "    return 'Good ' + time + ', ' + people"
   ]
  },
  {
   "cell_type": "code",
   "execution_count": 26,
   "metadata": {},
   "outputs": [
    {
     "data": {
      "text/plain": [
       "'Good afternoon, friends'"
      ]
     },
     "execution_count": 26,
     "metadata": {},
     "output_type": "execute_result"
    }
   ],
   "source": [
    "say_hello('afternoon')"
   ]
  },
  {
   "cell_type": "markdown",
   "metadata": {},
   "source": [
    "You can provide your own value for an argument with default value. In this case, the value that you provide will take precedence over the default value. Consider the following function call."
   ]
  },
  {
   "cell_type": "code",
   "execution_count": 27,
   "metadata": {},
   "outputs": [
    {
     "data": {
      "text/plain": [
       "'Good afternoon, students'"
      ]
     },
     "execution_count": 27,
     "metadata": {},
     "output_type": "execute_result"
    }
   ],
   "source": [
    "say_hello('afternoon', 'students')"
   ]
  },
  {
   "cell_type": "markdown",
   "metadata": {},
   "source": [
    "### 6.4 Ordering of function arguments during call."
   ]
  },
  {
   "cell_type": "markdown",
   "metadata": {},
   "source": [
    "It is very important to know the order in which arguments should be provided to a function call. In this section, we are exploring the answer to a question **Does the ordering of function argument matters during a function call?**\n",
    "\n",
    "The answer to this question is both **Yes** and **No**. So, let us consider both cases one by one.\n",
    "\n",
    "#### 6.4.1 **Where ordering of function argument is important.**\n",
    "\n",
    "In general, the funciton argument should come in the order in which you have declared them in the funciton definition. For example, conisder the following simple generic example\n",
    "\n",
    "```\n",
    "def Your_function_name(arg1, arg2):\n",
    "    Your_code_inside_the_function\n",
    "```\n",
    "\n",
    "To call this function with values, you would use a statement like\n",
    "```\n",
    "Your_function_name(val1, val2)\n",
    "```\n",
    "\n",
    "This way, the `val1` gets assigned to `arg1` and `val2` gets assigned to `arg2`. Let us see this in action by considering an actual example.\n"
   ]
  },
  {
   "cell_type": "code",
   "execution_count": 28,
   "metadata": {},
   "outputs": [
    {
     "name": "stdout",
     "output_type": "stream",
     "text": [
      "First value is  :-  10\n",
      "Second value is :-  20\n",
      "Difference is   :-  -10\n"
     ]
    }
   ],
   "source": [
    "#Function to subtract second value from first value.\n",
    "def subtract(arg1, arg2):\n",
    "    print('First value is  :- ', arg1)\n",
    "    print('Second value is :- ', arg2)\n",
    "    print('Difference is   :- ', arg1 - arg2)\n",
    "\n",
    "val1 = 10\n",
    "val2 = 20\n",
    "\n",
    "#We are taking care of the order of arguments.\n",
    "subtract(val1, val2)"
   ]
  },
  {
   "cell_type": "markdown",
   "metadata": {},
   "source": [
    "Now let us pass the values in the another order to see the effect."
   ]
  },
  {
   "cell_type": "code",
   "execution_count": 29,
   "metadata": {},
   "outputs": [
    {
     "name": "stdout",
     "output_type": "stream",
     "text": [
      "First value is  :-  20\n",
      "Second value is :-  10\n",
      "Difference is   :-  10\n"
     ]
    }
   ],
   "source": [
    "subtract(val2, val1)"
   ]
  },
  {
   "cell_type": "markdown",
   "metadata": {},
   "source": [
    "#### 6.4.1 **Where ordering of function argument is not important.**\n",
    "\n",
    "In order to ensure that your code is not effected by ordering of function arguments during function definition and function call, make sure you use the name of argument while making the function call.\n",
    "\n",
    "In most general sense, your function call would now change to the following.\n",
    "\n",
    "```\n",
    "Your_function_call(arg1 = val1, arg2 = val2)\n",
    "```\n",
    "\n",
    "This is equivalent to\n",
    "```\n",
    "Your_function_call(arg2 = val2, arg1 = val1)\n",
    "```\n",
    "\n",
    "Thus you can see that function is not effected by the order in which you provide the arguments. Let us see this in action."
   ]
  },
  {
   "cell_type": "code",
   "execution_count": null,
   "metadata": {},
   "outputs": [],
   "source": [
    "subtract(arg1=val1, a)"
   ]
  },
  {
   "cell_type": "markdown",
   "metadata": {},
   "source": [
    "### 6.5 Types of function call."
   ]
  },
  {
   "cell_type": "code",
   "execution_count": null,
   "metadata": {},
   "outputs": [],
   "source": []
  },
  {
   "cell_type": "markdown",
   "metadata": {},
   "source": [
    "### EXERCISE 5 - Creating a variance function\n",
    "\n",
    "Finally, let's turn our variance calculation into a function that we can use over and over again. \n",
    "Copy your code from Exercise 3 into the box below, and do the following:\n",
    "\n",
    "1. Turn your code into a function called `calculate_variance` that takes a list of values and returns their variance.\n",
    "1. Write a nice docstring describing what your function does.\n",
    "1. In a subsequent cell, call your function with different sets of numbers to make sure it works.\n",
    "\n",
    "__Bonus__\n",
    "\n",
    "1. Refactor your function by pulling out the section that calculates the mean into another function, and calling that inside your `calculate_variance` function.\n",
    "2. Make sure it can work properly when all the data are integers as well.\n",
    "3. Give a better error message when it's passed an empty list. Use the web to find out how to raise exceptions in Python."
   ]
  },
  {
   "cell_type": "code",
   "execution_count": null,
   "metadata": {},
   "outputs": [],
   "source": []
  },
  {
   "cell_type": "code",
   "execution_count": null,
   "metadata": {},
   "outputs": [],
   "source": [
    "print(calculate_variance([0.6, 0.1, 0.8]))\n",
    "print(calculate_variance([174.3, 165.2, 208]))\n",
    "print(calculate_variance([1.1, 1.5, 2.0]))"
   ]
  },
  {
   "cell_type": "markdown",
   "metadata": {},
   "source": [
    "### EXERCISE 6 - Putting the `calculate_mean` and `calculate_variance` function(s) in a module\n",
    "\n",
    "We can make our functions more easily reusable by placing them into modules that we can import, just\n",
    "like what we did with `numpy`. It's pretty simple to do this.\n",
    "\n",
    "1. Copy your function(s) into a new text file, in the same directory as this notebook,\n",
    "called `stats.py`.\n",
    "1. In the cell below, type `import stats` to import the module. Type `stats.` and hit tab to see the available\n",
    "functions in the module. Try calculating the variance of a number of samples of heights (or other random numbers) using your imported module.\n",
    "\n",
    "**TIP:** If your imported module doesn't work, you'll need to re-import it. To do that you'll need to `import importlib` and then run `importlib.reload(stats)`"
   ]
  },
  {
   "cell_type": "code",
   "execution_count": null,
   "metadata": {},
   "outputs": [],
   "source": [
    "import numpy as np\n",
    "import stats"
   ]
  },
  {
   "cell_type": "code",
   "execution_count": null,
   "metadata": {},
   "outputs": [],
   "source": [
    "samples = [1.8, 1.9, 2.0, 1.7, 1.6, 2.2]\n",
    "\n",
    "#calculate your result here\n",
    "result = \n",
    "\n",
    "# compare it to numpy's calculation \n",
    "np_result = np.var(samples, ddof=1)\n",
    "assert result == np_result"
   ]
  },
  {
   "cell_type": "markdown",
   "metadata": {},
   "source": [
    "## 7. Reading from a file\n",
    "\n",
    "Most of the time, the data you need to process in python is stored within a file and is too large to manually copy into a list or dictionary. Python makes it very easy to open and close files - but remember that if you're working with files you must always close them once you're done or you could cause problems with the file system. We've provided an example text file in the `data/` directory. "
   ]
  },
  {
   "cell_type": "code",
   "execution_count": null,
   "metadata": {},
   "outputs": [],
   "source": [
    "# To open a file we use the function 'open', this will return a filehandle\n",
    "#open?\n",
    "filehandle = open('data/testfile.txt')"
   ]
  },
  {
   "cell_type": "code",
   "execution_count": null,
   "metadata": {},
   "outputs": [],
   "source": [
    "# To read the entire contents of the file, we can use the .read method\n",
    "contents = filehandle.read()\n",
    "print(contents)"
   ]
  },
  {
   "cell_type": "code",
   "execution_count": null,
   "metadata": {
    "scrolled": true
   },
   "outputs": [],
   "source": [
    "# Remember to close the file once we're done!\n",
    "filehandle.close()"
   ]
  },
  {
   "cell_type": "markdown",
   "metadata": {},
   "source": [
    "### 7.1 Using `with`\n",
    "\n",
    "What we see above is already repetitive, after each `open` we need to `close` the file at some later point in the code. As well as being repetitive it's also vulnerable to problems - if the code crashes before the `close` statement then the file would be left open! One way the python developers solved this problem is to use a `with` statement. A `with` statement will run a function on start and *no matter what happens in the code* another function at the end. The `open` statement has been created with this in mind, so when we combined it with `with` the file will **always** get closed at the end."
   ]
  },
  {
   "cell_type": "code",
   "execution_count": null,
   "metadata": {},
   "outputs": [],
   "source": [
    "# With statement\n",
    "with open('data/testfile.txt') as filehandle:\n",
    "    print(filehandle.read())\n",
    "    \n",
    "# Now that we're outside the indentation, the file has been closed. This will return an error:\n",
    "filehandle.read()"
   ]
  },
  {
   "cell_type": "markdown",
   "metadata": {},
   "source": [
    "### 7.2 Reading line by line\n",
    "\n",
    "It's all very well to read the entire file at once but most of the time you want to process each line at a time. To do this we can use either the `.readline()` method or a `for` loop."
   ]
  },
  {
   "cell_type": "code",
   "execution_count": null,
   "metadata": {},
   "outputs": [],
   "source": [
    "# .readline() will read a single line\n",
    "with open('data/testfile.txt') as file:\n",
    "    line1 = file.readline()\n",
    "    print(line1)\n",
    "    print(\"Line2:\", file.readline())"
   ]
  },
  {
   "cell_type": "code",
   "execution_count": null,
   "metadata": {},
   "outputs": [],
   "source": [
    "# A for loop will allow us to go through each line in turn\n",
    "with open('data/testfile.txt') as file:\n",
    "    for line in file:\n",
    "        print(line)"
   ]
  },
  {
   "cell_type": "code",
   "execution_count": null,
   "metadata": {},
   "outputs": [],
   "source": [
    "# To remove the extra newline character at the end of each line, we can use the string method '.strip()'\n",
    "with open('data/testfile.txt') as file:\n",
    "    for line in file:\n",
    "        print(line.strip())"
   ]
  },
  {
   "cell_type": "markdown",
   "metadata": {},
   "source": [
    "### EXERCISE 7 - Reading from a file\n",
    "\n",
    "In this exercise we want to read in some values from a file, convert them into a list of floats and then calculate the variance of those numbers using your own module/function. The file we have provided for you is `data/numbers.txt`, it contains a header line then several lines of numbers seperated by commas and a space.\n",
    "\n",
    "1. Open the file using `with`.\n",
    "1. Create a `for` loop to look through each line.\n",
    "1. Add an `if` statement to exclude the first line (the header).\n",
    "1. For the other lines, remove the end newline character and split on the comma.\n",
    "1. Convert this list of strings into a list of floats. \n",
    "1. Use your previous function to calculate the variance on this list and print the result.\n",
    "\n",
    "**HINT:** Take a look at the string method `.split()`. Also to cast one object into another you need the object name e.g. `int()` and `str()`\n",
    "\n",
    "**HINT:** If you're not sure how to do something, look it up! Search https://stackoverflow.com/ to see how others tackle the problem.\n",
    "\n",
    "__BONUS__   \n",
    "Open a new file called `variances.txt` that you can write to (see the `mode` option in `open`). Write each variance on a new line into this file and don't forget to close the file once you're done."
   ]
  },
  {
   "cell_type": "code",
   "execution_count": null,
   "metadata": {},
   "outputs": [],
   "source": []
  },
  {
   "cell_type": "code",
   "execution_count": null,
   "metadata": {},
   "outputs": [],
   "source": [
    "# Bonus"
   ]
  },
  {
   "cell_type": "markdown",
   "metadata": {},
   "source": [
    "## Congratulations, you made it!\n",
    "\n",
    "This is the end of the **Learn to Program via Python** course, you've learnt how to use objects, point to them with variables, loop through collections, create your own functions and modules and work with files! Well done!!\n",
    "\n",
    "Much as we've been using Python today, many of these concepts and ideas apply to other languages too - once you've learnt one languge it's so much easier to learn another.\n",
    "\n",
    "Keep working if you want, there are plenty of other exercises and materials available for you within this directory. Learning how to program takes practise so try to challenge yourself with creating your own small program. If you can't think of your own project then take a look at some of these:\n",
    "\n",
    "* https://knightlab.northwestern.edu/2014/06/05/five-mini-programming-projects-for-the-python-beginner/\n",
    "* https://www.practicepython.org/\n",
    "* https://www.w3resource.com/python-exercises/challenges/1/index.php\n",
    "* http://www.programmingforbeginnersbook.com/blog/what_should_i_make_beginner_programming_project_ideas/"
   ]
  }
 ],
 "metadata": {
  "anaconda-cloud": {},
  "kernelspec": {
   "display_name": "Python 3 (ipykernel)",
   "language": "python",
   "name": "python3"
  },
  "language_info": {
   "codemirror_mode": {
    "name": "ipython",
    "version": 3
   },
   "file_extension": ".py",
   "mimetype": "text/x-python",
   "name": "python",
   "nbconvert_exporter": "python",
   "pygments_lexer": "ipython3",
   "version": "3.8.12"
  }
 },
 "nbformat": 4,
 "nbformat_minor": 4
}
